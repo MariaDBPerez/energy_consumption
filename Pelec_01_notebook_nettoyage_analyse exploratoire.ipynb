{
 "cells": [
  {
   "cell_type": "markdown",
   "metadata": {},
   "source": [
    "# Prediction of the electrical consumption needs of buildings"
   ]
  },
  {
   "cell_type": "markdown",
   "metadata": {},
   "source": [
    "# Content\n",
    "- [Context of the problem](#Context-of-the-problem)\n",
    "- [Pre-exploratory stage: General analysis and discovery of the files](#Pre-exploratory-stage:-General-analysis-and-discovery-of-the-files)\n",
    "- [Exploratory analysis and data cleaning](#Exploratory-analysis-and-data-cleaning)\n",
    "- [Pickling the cleaned data frame](#Pickling-the-cleaned-data-frame)"
   ]
  },
  {
   "cell_type": "markdown",
   "metadata": {},
   "source": [
    "## Context of the problem"
   ]
  },
  {
   "cell_type": "markdown",
   "metadata": {},
   "source": [
    "The project consists on creating data based strategies for the city of Seattle in the USA. To achieve the goal of a carbon-neutral city by 2050, the team is paying close attention to emissions from non-residential buildings. Consumption data can be downloaded at this address https://www.kaggle.com/city-of-seattle/sea-building-energy-benchmarking#2015-building-energy-benchmarking.csv.\n",
    "\n",
    "Predictions will be based on the declarative data of the commercial operating permit (size and use of buildings, mention of recent work, date of construction, etc.) \n",
    "We are also interested to assess the value of the \"ENERGY STAR Score\" for predicting emissions, which is tedious to calculate with the approach currently used."
   ]
  },
  {
   "cell_type": "code",
   "execution_count": 1,
   "metadata": {},
   "outputs": [],
   "source": [
    "import pandas as pd\n",
    "import numpy as np\n",
    "import matplotlib.pyplot as plt\n",
    "\n",
    "# Use seaborn style defaults and set the default figure size\n",
    "import seaborn as sns\n",
    "sns.set(rc={'figure.figsize':(11, 6)})"
   ]
  },
  {
   "cell_type": "markdown",
   "metadata": {},
   "source": [
    "We have two data files corresponding to the years of 2015 and 2016. We will explore them:"
   ]
  },
  {
   "cell_type": "markdown",
   "metadata": {},
   "source": [
    "## Pre-exploratory stage: General analysis and discovery of the files"
   ]
  },
  {
   "cell_type": "markdown",
   "metadata": {},
   "source": [
    "### Description of 2015 data file:"
   ]
  },
  {
   "cell_type": "code",
   "execution_count": 2,
   "metadata": {},
   "outputs": [],
   "source": [
    "data_file_2015 = pd.read_csv('2015-building-energy-benchmarking.csv')"
   ]
  },
  {
   "cell_type": "code",
   "execution_count": 3,
   "metadata": {},
   "outputs": [
    {
     "name": "stdout",
     "output_type": "stream",
     "text": [
      "The file contains 3340 rows and 47 columns\n"
     ]
    }
   ],
   "source": [
    "print(\"The file contains {} rows and {} columns\".format(data_file_2015.shape[0],data_file_2015.shape[1]))"
   ]
  },
  {
   "cell_type": "code",
   "execution_count": 4,
   "metadata": {},
   "outputs": [
    {
     "name": "stdout",
     "output_type": "stream",
     "text": [
      "Index(['OSEBuildingID', 'DataYear', 'BuildingType', 'PrimaryPropertyType',\n",
      "       'PropertyName', 'TaxParcelIdentificationNumber', 'Location',\n",
      "       'CouncilDistrictCode', 'Neighborhood', 'YearBuilt', 'NumberofBuildings',\n",
      "       'NumberofFloors', 'PropertyGFATotal', 'PropertyGFAParking',\n",
      "       'PropertyGFABuilding(s)', 'ListOfAllPropertyUseTypes',\n",
      "       'LargestPropertyUseType', 'LargestPropertyUseTypeGFA',\n",
      "       'SecondLargestPropertyUseType', 'SecondLargestPropertyUseTypeGFA',\n",
      "       'ThirdLargestPropertyUseType', 'ThirdLargestPropertyUseTypeGFA',\n",
      "       'YearsENERGYSTARCertified', 'ENERGYSTARScore', 'SiteEUI(kBtu/sf)',\n",
      "       'SiteEUIWN(kBtu/sf)', 'SourceEUI(kBtu/sf)', 'SourceEUIWN(kBtu/sf)',\n",
      "       'SiteEnergyUse(kBtu)', 'SiteEnergyUseWN(kBtu)', 'SteamUse(kBtu)',\n",
      "       'Electricity(kWh)', 'Electricity(kBtu)', 'NaturalGas(therms)',\n",
      "       'NaturalGas(kBtu)', 'OtherFuelUse(kBtu)',\n",
      "       'GHGEmissions(MetricTonsCO2e)', 'GHGEmissionsIntensity(kgCO2e/ft2)',\n",
      "       'DefaultData', 'Comment', 'ComplianceStatus', 'Outlier',\n",
      "       '2010 Census Tracts',\n",
      "       'Seattle Police Department Micro Community Policing Plan Areas',\n",
      "       'City Council Districts', 'SPD Beats', 'Zip Codes'],\n",
      "      dtype='object')\n"
     ]
    }
   ],
   "source": [
    "print(data_file_2015.columns)"
   ]
  },
  {
   "cell_type": "code",
   "execution_count": 5,
   "metadata": {},
   "outputs": [
    {
     "name": "stdout",
     "output_type": "stream",
     "text": [
      "<class 'pandas.core.frame.DataFrame'>\n",
      "RangeIndex: 3340 entries, 0 to 3339\n",
      "Data columns (total 47 columns):\n",
      " #   Column                                                         Non-Null Count  Dtype  \n",
      "---  ------                                                         --------------  -----  \n",
      " 0   OSEBuildingID                                                  3340 non-null   int64  \n",
      " 1   DataYear                                                       3340 non-null   int64  \n",
      " 2   BuildingType                                                   3340 non-null   object \n",
      " 3   PrimaryPropertyType                                            3340 non-null   object \n",
      " 4   PropertyName                                                   3340 non-null   object \n",
      " 5   TaxParcelIdentificationNumber                                  3338 non-null   object \n",
      " 6   Location                                                       3340 non-null   object \n",
      " 7   CouncilDistrictCode                                            3340 non-null   int64  \n",
      " 8   Neighborhood                                                   3340 non-null   object \n",
      " 9   YearBuilt                                                      3340 non-null   int64  \n",
      " 10  NumberofBuildings                                              3340 non-null   int64  \n",
      " 11  NumberofFloors                                                 3332 non-null   float64\n",
      " 12  PropertyGFATotal                                               3340 non-null   int64  \n",
      " 13  PropertyGFAParking                                             3340 non-null   int64  \n",
      " 14  PropertyGFABuilding(s)                                         3340 non-null   int64  \n",
      " 15  ListOfAllPropertyUseTypes                                      3213 non-null   object \n",
      " 16  LargestPropertyUseType                                         3204 non-null   object \n",
      " 17  LargestPropertyUseTypeGFA                                      3204 non-null   float64\n",
      " 18  SecondLargestPropertyUseType                                   1559 non-null   object \n",
      " 19  SecondLargestPropertyUseTypeGFA                                1559 non-null   float64\n",
      " 20  ThirdLargestPropertyUseType                                    560 non-null    object \n",
      " 21  ThirdLargestPropertyUseTypeGFA                                 560 non-null    float64\n",
      " 22  YearsENERGYSTARCertified                                       110 non-null    object \n",
      " 23  ENERGYSTARScore                                                2560 non-null   float64\n",
      " 24  SiteEUI(kBtu/sf)                                               3330 non-null   float64\n",
      " 25  SiteEUIWN(kBtu/sf)                                             3330 non-null   float64\n",
      " 26  SourceEUI(kBtu/sf)                                             3330 non-null   float64\n",
      " 27  SourceEUIWN(kBtu/sf)                                           3330 non-null   float64\n",
      " 28  SiteEnergyUse(kBtu)                                            3330 non-null   float64\n",
      " 29  SiteEnergyUseWN(kBtu)                                          3330 non-null   float64\n",
      " 30  SteamUse(kBtu)                                                 3330 non-null   float64\n",
      " 31  Electricity(kWh)                                               3330 non-null   float64\n",
      " 32  Electricity(kBtu)                                              3330 non-null   float64\n",
      " 33  NaturalGas(therms)                                             3330 non-null   float64\n",
      " 34  NaturalGas(kBtu)                                               3330 non-null   float64\n",
      " 35  OtherFuelUse(kBtu)                                             3330 non-null   float64\n",
      " 36  GHGEmissions(MetricTonsCO2e)                                   3330 non-null   float64\n",
      " 37  GHGEmissionsIntensity(kgCO2e/ft2)                              3330 non-null   float64\n",
      " 38  DefaultData                                                    3339 non-null   object \n",
      " 39  Comment                                                        13 non-null     object \n",
      " 40  ComplianceStatus                                               3340 non-null   object \n",
      " 41  Outlier                                                        84 non-null     object \n",
      " 42  2010 Census Tracts                                             224 non-null    float64\n",
      " 43  Seattle Police Department Micro Community Policing Plan Areas  3338 non-null   float64\n",
      " 44  City Council Districts                                         213 non-null    float64\n",
      " 45  SPD Beats                                                      3338 non-null   float64\n",
      " 46  Zip Codes                                                      3340 non-null   int64  \n",
      "dtypes: float64(23), int64(9), object(15)\n",
      "memory usage: 1.2+ MB\n"
     ]
    }
   ],
   "source": [
    "data_file_2015.info()"
   ]
  },
  {
   "cell_type": "markdown",
   "metadata": {},
   "source": [
    "### Description of 2016 data file:"
   ]
  },
  {
   "cell_type": "code",
   "execution_count": 6,
   "metadata": {},
   "outputs": [],
   "source": [
    "data_file_2016 = pd.read_csv('2016-building-energy-benchmarking.csv')"
   ]
  },
  {
   "cell_type": "code",
   "execution_count": 7,
   "metadata": {},
   "outputs": [
    {
     "name": "stdout",
     "output_type": "stream",
     "text": [
      "The file contains 3376 rows and 47 columns\n"
     ]
    }
   ],
   "source": [
    "print(\"The file contains {} rows and {} columns\".format(data_file_2016.shape[0],data_file_2015.shape[1]))"
   ]
  },
  {
   "cell_type": "code",
   "execution_count": 8,
   "metadata": {},
   "outputs": [
    {
     "name": "stdout",
     "output_type": "stream",
     "text": [
      "Index(['OSEBuildingID', 'DataYear', 'BuildingType', 'PrimaryPropertyType',\n",
      "       'PropertyName', 'Address', 'City', 'State', 'ZipCode',\n",
      "       'TaxParcelIdentificationNumber', 'CouncilDistrictCode', 'Neighborhood',\n",
      "       'Latitude', 'Longitude', 'YearBuilt', 'NumberofBuildings',\n",
      "       'NumberofFloors', 'PropertyGFATotal', 'PropertyGFAParking',\n",
      "       'PropertyGFABuilding(s)', 'ListOfAllPropertyUseTypes',\n",
      "       'LargestPropertyUseType', 'LargestPropertyUseTypeGFA',\n",
      "       'SecondLargestPropertyUseType', 'SecondLargestPropertyUseTypeGFA',\n",
      "       'ThirdLargestPropertyUseType', 'ThirdLargestPropertyUseTypeGFA',\n",
      "       'YearsENERGYSTARCertified', 'ENERGYSTARScore', 'SiteEUI(kBtu/sf)',\n",
      "       'SiteEUIWN(kBtu/sf)', 'SourceEUI(kBtu/sf)', 'SourceEUIWN(kBtu/sf)',\n",
      "       'SiteEnergyUse(kBtu)', 'SiteEnergyUseWN(kBtu)', 'SteamUse(kBtu)',\n",
      "       'Electricity(kWh)', 'Electricity(kBtu)', 'NaturalGas(therms)',\n",
      "       'NaturalGas(kBtu)', 'DefaultData', 'Comments', 'ComplianceStatus',\n",
      "       'Outlier', 'TotalGHGEmissions', 'GHGEmissionsIntensity'],\n",
      "      dtype='object')\n"
     ]
    }
   ],
   "source": [
    "print(data_file_2016.columns)"
   ]
  },
  {
   "cell_type": "code",
   "execution_count": 9,
   "metadata": {},
   "outputs": [
    {
     "name": "stdout",
     "output_type": "stream",
     "text": [
      "<class 'pandas.core.frame.DataFrame'>\n",
      "RangeIndex: 3376 entries, 0 to 3375\n",
      "Data columns (total 46 columns):\n",
      " #   Column                           Non-Null Count  Dtype  \n",
      "---  ------                           --------------  -----  \n",
      " 0   OSEBuildingID                    3376 non-null   int64  \n",
      " 1   DataYear                         3376 non-null   int64  \n",
      " 2   BuildingType                     3376 non-null   object \n",
      " 3   PrimaryPropertyType              3376 non-null   object \n",
      " 4   PropertyName                     3376 non-null   object \n",
      " 5   Address                          3376 non-null   object \n",
      " 6   City                             3376 non-null   object \n",
      " 7   State                            3376 non-null   object \n",
      " 8   ZipCode                          3360 non-null   float64\n",
      " 9   TaxParcelIdentificationNumber    3376 non-null   object \n",
      " 10  CouncilDistrictCode              3376 non-null   int64  \n",
      " 11  Neighborhood                     3376 non-null   object \n",
      " 12  Latitude                         3376 non-null   float64\n",
      " 13  Longitude                        3376 non-null   float64\n",
      " 14  YearBuilt                        3376 non-null   int64  \n",
      " 15  NumberofBuildings                3368 non-null   float64\n",
      " 16  NumberofFloors                   3376 non-null   int64  \n",
      " 17  PropertyGFATotal                 3376 non-null   int64  \n",
      " 18  PropertyGFAParking               3376 non-null   int64  \n",
      " 19  PropertyGFABuilding(s)           3376 non-null   int64  \n",
      " 20  ListOfAllPropertyUseTypes        3367 non-null   object \n",
      " 21  LargestPropertyUseType           3356 non-null   object \n",
      " 22  LargestPropertyUseTypeGFA        3356 non-null   float64\n",
      " 23  SecondLargestPropertyUseType     1679 non-null   object \n",
      " 24  SecondLargestPropertyUseTypeGFA  1679 non-null   float64\n",
      " 25  ThirdLargestPropertyUseType      596 non-null    object \n",
      " 26  ThirdLargestPropertyUseTypeGFA   596 non-null    float64\n",
      " 27  YearsENERGYSTARCertified         119 non-null    object \n",
      " 28  ENERGYSTARScore                  2533 non-null   float64\n",
      " 29  SiteEUI(kBtu/sf)                 3369 non-null   float64\n",
      " 30  SiteEUIWN(kBtu/sf)               3370 non-null   float64\n",
      " 31  SourceEUI(kBtu/sf)               3367 non-null   float64\n",
      " 32  SourceEUIWN(kBtu/sf)             3367 non-null   float64\n",
      " 33  SiteEnergyUse(kBtu)              3371 non-null   float64\n",
      " 34  SiteEnergyUseWN(kBtu)            3370 non-null   float64\n",
      " 35  SteamUse(kBtu)                   3367 non-null   float64\n",
      " 36  Electricity(kWh)                 3367 non-null   float64\n",
      " 37  Electricity(kBtu)                3367 non-null   float64\n",
      " 38  NaturalGas(therms)               3367 non-null   float64\n",
      " 39  NaturalGas(kBtu)                 3367 non-null   float64\n",
      " 40  DefaultData                      3376 non-null   bool   \n",
      " 41  Comments                         0 non-null      float64\n",
      " 42  ComplianceStatus                 3376 non-null   object \n",
      " 43  Outlier                          32 non-null     object \n",
      " 44  TotalGHGEmissions                3367 non-null   float64\n",
      " 45  GHGEmissionsIntensity            3367 non-null   float64\n",
      "dtypes: bool(1), float64(22), int64(8), object(15)\n",
      "memory usage: 1.2+ MB\n"
     ]
    }
   ],
   "source": [
    "data_file_2016.info()"
   ]
  },
  {
   "cell_type": "markdown",
   "metadata": {},
   "source": [
    "### Comparison between 2015 and 2016 data files:"
   ]
  },
  {
   "cell_type": "markdown",
   "metadata": {},
   "source": [
    "We will verify now if the data files from 2015 and 2016 have the same shape."
   ]
  },
  {
   "cell_type": "code",
   "execution_count": 10,
   "metadata": {},
   "outputs": [],
   "source": [
    "list_data_file_2015 = list(data_file_2015)\n",
    "list_data_file_2016 = list(data_file_2016)"
   ]
  },
  {
   "cell_type": "code",
   "execution_count": 11,
   "metadata": {},
   "outputs": [
    {
     "data": {
      "text/plain": [
       "False"
      ]
     },
     "execution_count": 11,
     "metadata": {},
     "output_type": "execute_result"
    }
   ],
   "source": [
    "list_data_file_2016 == list_data_file_2015"
   ]
  },
  {
   "cell_type": "markdown",
   "metadata": {},
   "source": [
    "The datafiles from years 2015 and 2016 are different. To verify which columns are different:"
   ]
  },
  {
   "cell_type": "code",
   "execution_count": 12,
   "metadata": {},
   "outputs": [],
   "source": [
    "# Code extracted from https://stackoverflow.com/questions/50203732/compare-column-names-of-pandas-dataframe\n",
    "\n",
    "def comparison_columns_data_files(data_file_A, data_file_B):\n",
    "    data_file_A_column = data_file_A.columns\n",
    "    data_file_B_column = data_file_B.columns\n",
    "\n",
    "    common_columns = data_file_A_column.intersection(data_file_B_column) # common columns between data frames\n",
    "    data_file_A_not_in_data_file_B = data_file_A_column.difference(data_file_B_column) # Columns that are in 2015 data file that are not in 2016 data file\n",
    "    data_file_B_not_in_data_file_A = data_file_B_column.difference(data_file_A_column) # Columns that are in 2016 data file that are not in 2015 data file\n",
    "\n",
    "    return (common_columns, data_file_A_not_in_data_file_B, data_file_B_not_in_data_file_A)"
   ]
  },
  {
   "cell_type": "code",
   "execution_count": 13,
   "metadata": {},
   "outputs": [
    {
     "data": {
      "text/plain": [
       "(Index(['OSEBuildingID', 'DataYear', 'BuildingType', 'PrimaryPropertyType',\n",
       "        'PropertyName', 'TaxParcelIdentificationNumber', 'CouncilDistrictCode',\n",
       "        'Neighborhood', 'YearBuilt', 'NumberofBuildings', 'NumberofFloors',\n",
       "        'PropertyGFATotal', 'PropertyGFAParking', 'PropertyGFABuilding(s)',\n",
       "        'ListOfAllPropertyUseTypes', 'LargestPropertyUseType',\n",
       "        'LargestPropertyUseTypeGFA', 'SecondLargestPropertyUseType',\n",
       "        'SecondLargestPropertyUseTypeGFA', 'ThirdLargestPropertyUseType',\n",
       "        'ThirdLargestPropertyUseTypeGFA', 'YearsENERGYSTARCertified',\n",
       "        'ENERGYSTARScore', 'SiteEUI(kBtu/sf)', 'SiteEUIWN(kBtu/sf)',\n",
       "        'SourceEUI(kBtu/sf)', 'SourceEUIWN(kBtu/sf)', 'SiteEnergyUse(kBtu)',\n",
       "        'SiteEnergyUseWN(kBtu)', 'SteamUse(kBtu)', 'Electricity(kWh)',\n",
       "        'Electricity(kBtu)', 'NaturalGas(therms)', 'NaturalGas(kBtu)',\n",
       "        'DefaultData', 'ComplianceStatus', 'Outlier'],\n",
       "       dtype='object'),\n",
       " Index(['2010 Census Tracts', 'City Council Districts', 'Comment',\n",
       "        'GHGEmissions(MetricTonsCO2e)', 'GHGEmissionsIntensity(kgCO2e/ft2)',\n",
       "        'Location', 'OtherFuelUse(kBtu)', 'SPD Beats',\n",
       "        'Seattle Police Department Micro Community Policing Plan Areas',\n",
       "        'Zip Codes'],\n",
       "       dtype='object'),\n",
       " Index(['Address', 'City', 'Comments', 'GHGEmissionsIntensity', 'Latitude',\n",
       "        'Longitude', 'State', 'TotalGHGEmissions', 'ZipCode'],\n",
       "       dtype='object'))"
      ]
     },
     "execution_count": 13,
     "metadata": {},
     "output_type": "execute_result"
    }
   ],
   "source": [
    "comparison_columns_data_files(data_file_2015, data_file_2016)"
   ]
  },
  {
   "cell_type": "markdown",
   "metadata": {},
   "source": [
    "We will have a look at the column 'Location' from the 2015 data file."
   ]
  },
  {
   "cell_type": "code",
   "execution_count": 14,
   "metadata": {},
   "outputs": [
    {
     "data": {
      "text/plain": [
       "0       {'latitude': '47.61219025', 'longitude': '-122...\n",
       "1       {'latitude': '47.61310583', 'longitude': '-122...\n",
       "2       {'latitude': '47.61334897', 'longitude': '-122...\n",
       "3       {'latitude': '47.61421585', 'longitude': '-122...\n",
       "4       {'latitude': '47.6137544', 'longitude': '-122....\n",
       "                              ...                        \n",
       "3335    {'latitude': '47.59950256', 'longitude': '-122...\n",
       "3336    {'latitude': '47.65752471', 'longitude': '-122...\n",
       "3337    {'latitude': '47.61649845', 'longitude': '-122...\n",
       "3338    {'latitude': '47.68396954', 'longitude': '-122...\n",
       "3339    {'latitude': '47.68396954', 'longitude': '-122...\n",
       "Name: Location, Length: 3340, dtype: object"
      ]
     },
     "execution_count": 14,
     "metadata": {},
     "output_type": "execute_result"
    }
   ],
   "source": [
    "data_file_2015['Location']"
   ]
  },
  {
   "cell_type": "markdown",
   "metadata": {},
   "source": [
    "As we observe from the 2015 data file, Location column contains information about the latitude and longitude coordinates, which are present as columns in the 2016 data file. We will separate the information contained in 'Location' column o obtain the latitude and longitude information in order to put it into two separate columns."
   ]
  },
  {
   "cell_type": "code",
   "execution_count": 15,
   "metadata": {},
   "outputs": [],
   "source": [
    "# See reference code at https://www.kaggle.com/marcbourgeois/p-lec-01-cleaning\n",
    "import ast\n",
    "data_file_2015['Location'] = [ast.literal_eval(str(item)) for index, item in data_file_2015.Location.iteritems()]\n",
    "data_file_2015 = pd.concat([data_file_2015.drop(['Location'], axis=1), data_file_2015['Location'].apply(pd.Series)], axis=1)\n",
    "data_file_2015['human_address'] = [ast.literal_eval(str(item)) for index, item in data_file_2015.human_address.iteritems()]\n",
    "data_file_2015 = pd.concat([data_file_2015.drop(['human_address'], axis=1), data_file_2015['human_address'].apply(pd.Series)], axis=1)\n",
    "data_file_2015[['longitude', 'latitude']] = data_file_2015[['longitude', 'latitude']].apply(pd.to_numeric) "
   ]
  },
  {
   "cell_type": "code",
   "execution_count": 16,
   "metadata": {},
   "outputs": [
    {
     "name": "stdout",
     "output_type": "stream",
     "text": [
      "<class 'pandas.core.frame.DataFrame'>\n",
      "RangeIndex: 3340 entries, 0 to 3339\n",
      "Data columns (total 52 columns):\n",
      " #   Column                                                         Non-Null Count  Dtype  \n",
      "---  ------                                                         --------------  -----  \n",
      " 0   OSEBuildingID                                                  3340 non-null   int64  \n",
      " 1   DataYear                                                       3340 non-null   int64  \n",
      " 2   BuildingType                                                   3340 non-null   object \n",
      " 3   PrimaryPropertyType                                            3340 non-null   object \n",
      " 4   PropertyName                                                   3340 non-null   object \n",
      " 5   TaxParcelIdentificationNumber                                  3338 non-null   object \n",
      " 6   CouncilDistrictCode                                            3340 non-null   int64  \n",
      " 7   Neighborhood                                                   3340 non-null   object \n",
      " 8   YearBuilt                                                      3340 non-null   int64  \n",
      " 9   NumberofBuildings                                              3340 non-null   int64  \n",
      " 10  NumberofFloors                                                 3332 non-null   float64\n",
      " 11  PropertyGFATotal                                               3340 non-null   int64  \n",
      " 12  PropertyGFAParking                                             3340 non-null   int64  \n",
      " 13  PropertyGFABuilding(s)                                         3340 non-null   int64  \n",
      " 14  ListOfAllPropertyUseTypes                                      3213 non-null   object \n",
      " 15  LargestPropertyUseType                                         3204 non-null   object \n",
      " 16  LargestPropertyUseTypeGFA                                      3204 non-null   float64\n",
      " 17  SecondLargestPropertyUseType                                   1559 non-null   object \n",
      " 18  SecondLargestPropertyUseTypeGFA                                1559 non-null   float64\n",
      " 19  ThirdLargestPropertyUseType                                    560 non-null    object \n",
      " 20  ThirdLargestPropertyUseTypeGFA                                 560 non-null    float64\n",
      " 21  YearsENERGYSTARCertified                                       110 non-null    object \n",
      " 22  ENERGYSTARScore                                                2560 non-null   float64\n",
      " 23  SiteEUI(kBtu/sf)                                               3330 non-null   float64\n",
      " 24  SiteEUIWN(kBtu/sf)                                             3330 non-null   float64\n",
      " 25  SourceEUI(kBtu/sf)                                             3330 non-null   float64\n",
      " 26  SourceEUIWN(kBtu/sf)                                           3330 non-null   float64\n",
      " 27  SiteEnergyUse(kBtu)                                            3330 non-null   float64\n",
      " 28  SiteEnergyUseWN(kBtu)                                          3330 non-null   float64\n",
      " 29  SteamUse(kBtu)                                                 3330 non-null   float64\n",
      " 30  Electricity(kWh)                                               3330 non-null   float64\n",
      " 31  Electricity(kBtu)                                              3330 non-null   float64\n",
      " 32  NaturalGas(therms)                                             3330 non-null   float64\n",
      " 33  NaturalGas(kBtu)                                               3330 non-null   float64\n",
      " 34  OtherFuelUse(kBtu)                                             3330 non-null   float64\n",
      " 35  GHGEmissions(MetricTonsCO2e)                                   3330 non-null   float64\n",
      " 36  GHGEmissionsIntensity(kgCO2e/ft2)                              3330 non-null   float64\n",
      " 37  DefaultData                                                    3339 non-null   object \n",
      " 38  Comment                                                        13 non-null     object \n",
      " 39  ComplianceStatus                                               3340 non-null   object \n",
      " 40  Outlier                                                        84 non-null     object \n",
      " 41  2010 Census Tracts                                             224 non-null    float64\n",
      " 42  Seattle Police Department Micro Community Policing Plan Areas  3338 non-null   float64\n",
      " 43  City Council Districts                                         213 non-null    float64\n",
      " 44  SPD Beats                                                      3338 non-null   float64\n",
      " 45  Zip Codes                                                      3340 non-null   int64  \n",
      " 46  latitude                                                       3340 non-null   float64\n",
      " 47  longitude                                                      3340 non-null   float64\n",
      " 48  address                                                        3340 non-null   object \n",
      " 49  city                                                           3340 non-null   object \n",
      " 50  state                                                          3340 non-null   object \n",
      " 51  zip                                                            3340 non-null   object \n",
      "dtypes: float64(25), int64(9), object(18)\n",
      "memory usage: 1.3+ MB\n"
     ]
    }
   ],
   "source": [
    "data_file_2015.info()"
   ]
  },
  {
   "cell_type": "code",
   "execution_count": 17,
   "metadata": {},
   "outputs": [],
   "source": [
    "data_file_2015[['longitude', 'latitude']] = data_file_2015[['longitude', 'latitude']].apply(pd.to_numeric) "
   ]
  },
  {
   "cell_type": "markdown",
   "metadata": {},
   "source": [
    "### Revision of data files variables"
   ]
  },
  {
   "cell_type": "markdown",
   "metadata": {},
   "source": [
    "As the mission of the project is regarding the CO2 emissions, we should pay special atention to the variables 'GHGEmissions(MetricTonsCO2e)', 'GHGEmissionsIntensity(kgCO2e/ft2)', 'GHGEmissionsIntensity' and 'TotalGHGEmissions'.\n",
    "\n",
    "As described at https://data.seattle.gov/dataset/2016-Building-Energy-Benchmarking/2bpz-gwpy, we have:\n",
    "\n",
    "* **The variable 'GHGEmissionsIntensity' or 'GHGEmissionsIntensity(kgCO2e/ft2)'**, is the total Greenhouse Gas Emissions divided by property's gross floor area, measured in kilograms of carbon dioxide equivalent per square foot. This calculation uses a GHG emissions factor from Seattle City Light's portfolio of generating resources.\n",
    "\n",
    "* **The variable 'TotalGHGEmissions' or 'GHGEmissions(MetricTonsCO2e)'**, is the total amount of greenhouse gas emissions, including carbon dioxide, methane, and nitrous oxide gases released into the atmosphere as a result of energy consumption at the property, measured in metric tons of carbon dioxide equivalent. This calculation uses a GHG emissions factor from Seattle City Light's portfolio of generating resources. This uses Seattle City Light's 2015 emissions factor of 52.44 lbs CO2e/MWh until the 2016 factor is available. Enwave steam factor = 170.17 lbs CO2e/MMBtu. Gas factor sourced from EPA Portfolio Manager = 53.11 kg CO2e/MBtu."
   ]
  },
  {
   "cell_type": "code",
   "execution_count": 18,
   "metadata": {},
   "outputs": [
    {
     "data": {
      "text/plain": [
       "count     3330.000000\n",
       "mean       110.094102\n",
       "std        409.450179\n",
       "min          0.000000\n",
       "25%          9.265000\n",
       "50%         32.740000\n",
       "75%         88.642500\n",
       "max      11824.890000\n",
       "Name: GHGEmissions(MetricTonsCO2e), dtype: float64"
      ]
     },
     "execution_count": 18,
     "metadata": {},
     "output_type": "execute_result"
    }
   ],
   "source": [
    "data_file_2015['GHGEmissions(MetricTonsCO2e)'].describe()"
   ]
  },
  {
   "cell_type": "code",
   "execution_count": 19,
   "metadata": {},
   "outputs": [
    {
     "data": {
      "text/plain": [
       "count     3367.000000\n",
       "mean       119.723971\n",
       "std        538.832227\n",
       "min         -0.800000\n",
       "25%          9.495000\n",
       "50%         33.920000\n",
       "75%         93.940000\n",
       "max      16870.980000\n",
       "Name: TotalGHGEmissions, dtype: float64"
      ]
     },
     "execution_count": 19,
     "metadata": {},
     "output_type": "execute_result"
    }
   ],
   "source": [
    "data_file_2016['TotalGHGEmissions'].describe()      "
   ]
  },
  {
   "cell_type": "code",
   "execution_count": 20,
   "metadata": {},
   "outputs": [
    {
     "data": {
      "text/plain": [
       "count    3330.000000\n",
       "mean        0.985339\n",
       "std         1.637172\n",
       "min         0.000000\n",
       "25%         0.080000\n",
       "50%         0.460000\n",
       "75%         1.180000\n",
       "max        31.380000\n",
       "Name: GHGEmissionsIntensity(kgCO2e/ft2), dtype: float64"
      ]
     },
     "execution_count": 20,
     "metadata": {},
     "output_type": "execute_result"
    }
   ],
   "source": [
    "data_file_2015['GHGEmissionsIntensity(kgCO2e/ft2)'].describe()"
   ]
  },
  {
   "cell_type": "code",
   "execution_count": 21,
   "metadata": {},
   "outputs": [
    {
     "data": {
      "text/plain": [
       "count    3367.000000\n",
       "mean        1.175916\n",
       "std         1.821452\n",
       "min        -0.020000\n",
       "25%         0.210000\n",
       "50%         0.610000\n",
       "75%         1.370000\n",
       "max        34.090000\n",
       "Name: GHGEmissionsIntensity, dtype: float64"
      ]
     },
     "execution_count": 21,
     "metadata": {},
     "output_type": "execute_result"
    }
   ],
   "source": [
    "data_file_2016['GHGEmissionsIntensity'].describe()\n"
   ]
  },
  {
   "cell_type": "markdown",
   "metadata": {},
   "source": [
    "The variables 'GHGEmissionsIntensity(kgCO2e/ft2)' and 'GHGEmissionsIntensity' are of the same order of magnitud, as for the variables 'GHGEmissions(MetricTonsCO2e)' and 'TotalGHGEmissions'. We are going to rename these variables, plus the variables 'ZipCode' and 'Zip Codes', and we are going to use the variables names from the 2016 data file."
   ]
  },
  {
   "cell_type": "code",
   "execution_count": 22,
   "metadata": {},
   "outputs": [],
   "source": [
    "new_df_2015 = data_file_2015.copy()"
   ]
  },
  {
   "cell_type": "code",
   "execution_count": 23,
   "metadata": {},
   "outputs": [],
   "source": [
    "new_df_2015 = new_df_2015.rename(columns={'GHGEmissions(MetricTonsCO2e)':'TotalGHGEmissions',\n",
    "                                  'GHGEmissionsIntensity(kgCO2e/ft2)':'GHGEmissionsIntensity',\n",
    "                                  'Zip Codes':'ZipCode',\n",
    "                                  'latitude':'Latitude',\n",
    "                                  'longitude':'Longitude',\n",
    "                                  'address':'Address'})"
   ]
  },
  {
   "cell_type": "markdown",
   "metadata": {},
   "source": [
    "In order to keep only the variables that we are going to use in further analyses, we will have a look first at the meaning of all the common variables of the 2015 and 2016 data files. As previously mentioned, the description of the variables is at https://data.seattle.gov/dataset/2016-Building-Energy-Benchmarking/2bpz-gwpy.\n",
    "We will indicate here the variables relevant to our mission.\n",
    "\n",
    "* **OSEBuildingID**: A unique identifier assigned to each property covered by the Seattle Benchmarking Ordinance for tracking and identification purposes.\n",
    "* **DataYear**: Calendar year (January-December) represented by each data record.\n",
    "* **BuildingType**: City of Seattle building type classification (e.g. Nonresidential, Multifamily).\n",
    "* **PrimaryPropertyType**: The primary use of a property (e.g. office, retail store). Primary use is defined as a function that accounts for more than 50% of a property. This is the Property Type - EPA Calculated field from Portfolio Manager.\n",
    "* **ZipCode, Latitude, Longitude and Address**: Property zip code, latitude and longitude coordinates, and physical address.\n",
    "* **Neighborhood**: Property neighborhood area defined by the City of Seattle Department of Neighborhoods.\n",
    "* **YearBuilt**: Year in which a property was constructed or underwent a complete renovation.\n",
    " "
   ]
  },
  {
   "cell_type": "markdown",
   "metadata": {},
   "source": [
    "Regarding energy performance of buildings we have:\n",
    "\n",
    "ENERGY STAR® is a joint program of the Environmental Protection Agency (EPA) and the Department of Energy (DOE). Its goal is to help consumers, businesses, and industry save money and protect the environment through the adoption of energy-efficient products and practices. (See ref. https://www.energy.gov/eere/buildings/energy-starr#:~:text=ENERGY%20STAR%C2%AE%20is%20a,energy%2Defficient%20products%20and%20practices).\n",
    "\n",
    "Thus we have the following columns.\n",
    "\n",
    "* **ENERGYSTARScore**: An EPA calculated 1-100 rating that assesses a property’s overall energy performance, based on national data to control for differences among climate, building uses, and operations. A score of 50 represents the national median.\n",
    "* **SiteEUI(kBtu/sf)**: Site Energy Use Intensity (EUI) is a property's Site Energy Use divided by its gross floor area. Site Energy Use is the annual amount of all the energy consumed by the property on-site, as reported on utility bills. Site EUI is measured in thousands of British thermal units (kBtu) per square foot.\n",
    "* **SourceEUI(kBtu/sf)**: Source Energy Use Intensity (EUI) is a property's Source Energy Use divided by its gross floor area. Source Energy Use is the annual energy used to operate the property, including losses from generation, transmission, & distribution. Source EUI is measured in thousands of British thermal units (kBtu) per square foot.\n",
    "* **SiteEnergyUse(kBtu)**: The annual amount of energy consumed by the property from all sources of energy.\n",
    "* **Electricity(kBtu)**: The annual amount of electricity consumed by the property on-site, including electricity purchased from the grid and generated by onsite renewable systems, measured in thousands of British thermal units (kBtu).\n",
    "* **NaturalGas(kBtu)**: The annual amount of utility-supplied natural gas consumed by the property, measured in thousands of British thermal units (kBtu). \n",
    "\n",
    "**Although the terms 'electricity' and 'energy' are often used interchangeably, it's important to understand that electricity is just one component of total energy consumption. The same logic applies to 'natural gas', which can be used to calculate the total energy consumption and green house gasses emissions. Energy describes the work and heat available from all energy carriers, from the point of supply to consumption; whereas electricity is only one of these carriers. The energy carriers which supply the world today are predominantly: fossil fuels, biofuels, nuclear fuels, the wind and solar radiation. So why is this distinction important? Presently only a small fraction of the energy supplied and consumed worldwide is carried by electricity, approximately 11% and 20% respectively in the UK (assuming that hydro, wind, nuclear and solar energy are converted to electricity at the point of supply) whereas the majority of the energy supply and demand is carried by fossil fuels. Also, the commercial sector uses natural gas to heat buildings and water, to operate refrigeration and cooling equipment, to cook, to dry clothes, and to provide outdoor lighting. Some consumers in the commercial sector also use natural gas as a fuel in combined heat and power systems.**\n",
    "\n",
    "https://www.eia.gov/energyexplained/natural-gas/use-of-natural-gas.php\n",
    "\n",
    "See reference: https://www.cambridgeconsultants.com/insights/energy-versus-electricity#:~:text=Energy%20describes%20the%20work%20and,the%20wind%20and%20solar%20radiation.\n",
    "\n",
    "There are two types of EUI: site and source. Site EUI is the amount of heat and electricity a buildings consumes as reflected in utility bills. Source EUI traces heat and electricity use back to the original raw input creating a more holistic understanding of a building's energy use.\n"
   ]
  },
  {
   "cell_type": "markdown",
   "metadata": {},
   "source": [
    "Other columns:\n",
    "\n",
    "* **NumberofBuildings**: Number of buildings included in the property's report. In cases where a property is reporting as a campus, multiple buildings may be included in one report.\n",
    "* **NumberofFloors**: Number of floors reported in Portfolio Manager.\n",
    "* **PropertyGFATotal**: Total building and parking gross floor area.\n",
    "* **PropertyGFABuilding(s)**: Total floor space in square feet between the outside surfaces of a building’s enclosing walls. This includes all areas inside the building(s), such as tenant space, common areas, stairwells, basements, storage, etc.\n",
    "\n",
    "Generally, the gross floor area is the sum of the floor areas of the spaces within the building, including basements, mezzanine and intermediate-floored tiers, and penthouses with headroom height of 7.5 ft (2.2 meters) or greater."
   ]
  },
  {
   "cell_type": "markdown",
   "metadata": {},
   "source": [
    "We are starting te removal of some columns from the data files of 2015 and 2016 that we are not going to use in further analysis."
   ]
  },
  {
   "cell_type": "code",
   "execution_count": 24,
   "metadata": {},
   "outputs": [],
   "source": [
    "new_df_2015 = new_df_2015.drop(columns=['2010 Census Tracts', 'City Council Districts', 'Comment', 'OtherFuelUse(kBtu)', 'SPD Beats',\n",
    "                                'Seattle Police Department Micro Community Policing Plan Areas', 'ZipCode', 'city', 'state', 'zip'])"
   ]
  },
  {
   "cell_type": "code",
   "execution_count": 25,
   "metadata": {},
   "outputs": [],
   "source": [
    "new_df_2016 = data_file_2016.copy()"
   ]
  },
  {
   "cell_type": "code",
   "execution_count": 26,
   "metadata": {},
   "outputs": [],
   "source": [
    "new_df_2016 = new_df_2016.drop(columns=['City', 'Comments', 'ZipCode', 'State'])"
   ]
  },
  {
   "cell_type": "markdown",
   "metadata": {},
   "source": [
    "We will compare now if the two data frames have the same columns. If so, we will proceed to create a new data frame for each year with the variables that we will consider as relevant now based on the variables descriptions shown previously."
   ]
  },
  {
   "cell_type": "code",
   "execution_count": 27,
   "metadata": {},
   "outputs": [
    {
     "data": {
      "text/plain": [
       "(Index(['OSEBuildingID', 'DataYear', 'BuildingType', 'PrimaryPropertyType',\n",
       "        'PropertyName', 'TaxParcelIdentificationNumber', 'CouncilDistrictCode',\n",
       "        'Neighborhood', 'YearBuilt', 'NumberofBuildings', 'NumberofFloors',\n",
       "        'PropertyGFATotal', 'PropertyGFAParking', 'PropertyGFABuilding(s)',\n",
       "        'ListOfAllPropertyUseTypes', 'LargestPropertyUseType',\n",
       "        'LargestPropertyUseTypeGFA', 'SecondLargestPropertyUseType',\n",
       "        'SecondLargestPropertyUseTypeGFA', 'ThirdLargestPropertyUseType',\n",
       "        'ThirdLargestPropertyUseTypeGFA', 'YearsENERGYSTARCertified',\n",
       "        'ENERGYSTARScore', 'SiteEUI(kBtu/sf)', 'SiteEUIWN(kBtu/sf)',\n",
       "        'SourceEUI(kBtu/sf)', 'SourceEUIWN(kBtu/sf)', 'SiteEnergyUse(kBtu)',\n",
       "        'SiteEnergyUseWN(kBtu)', 'SteamUse(kBtu)', 'Electricity(kWh)',\n",
       "        'Electricity(kBtu)', 'NaturalGas(therms)', 'NaturalGas(kBtu)',\n",
       "        'TotalGHGEmissions', 'GHGEmissionsIntensity', 'DefaultData',\n",
       "        'ComplianceStatus', 'Outlier', 'Latitude', 'Longitude', 'Address'],\n",
       "       dtype='object'),\n",
       " Index([], dtype='object'),\n",
       " Index([], dtype='object'))"
      ]
     },
     "execution_count": 27,
     "metadata": {},
     "output_type": "execute_result"
    }
   ],
   "source": [
    "comparison_columns_data_files(new_df_2015,new_df_2016)"
   ]
  },
  {
   "cell_type": "markdown",
   "metadata": {},
   "source": [
    "### Selection of relevant columns for the creation of new data frame with 2015 and 2016 data files"
   ]
  },
  {
   "cell_type": "code",
   "execution_count": 28,
   "metadata": {},
   "outputs": [],
   "source": [
    "columns_for_analyses = ['OSEBuildingID', 'DataYear', 'BuildingType', 'PrimaryPropertyType', 'Latitude', 'Longitude', 'Address', 'Neighborhood', 'YearBuilt', \n",
    "                        'ENERGYSTARScore', 'SiteEUI(kBtu/sf)', 'SourceEUI(kBtu/sf)', 'SiteEnergyUse(kBtu)', 'NumberofBuildings', 'NumberofFloors',\n",
    "                        'PropertyGFATotal', 'PropertyGFABuilding(s)', 'GHGEmissionsIntensity', 'TotalGHGEmissions', 'Electricity(kBtu)', 'NaturalGas(kBtu)']"
   ]
  },
  {
   "cell_type": "code",
   "execution_count": 29,
   "metadata": {},
   "outputs": [],
   "source": [
    "new_data_frame_2015 = new_df_2015.copy()"
   ]
  },
  {
   "cell_type": "code",
   "execution_count": 30,
   "metadata": {},
   "outputs": [],
   "source": [
    "data_subset_2015 = new_data_frame_2015[columns_for_analyses]"
   ]
  },
  {
   "cell_type": "code",
   "execution_count": 31,
   "metadata": {},
   "outputs": [
    {
     "data": {
      "text/html": [
       "<div>\n",
       "<style scoped>\n",
       "    .dataframe tbody tr th:only-of-type {\n",
       "        vertical-align: middle;\n",
       "    }\n",
       "\n",
       "    .dataframe tbody tr th {\n",
       "        vertical-align: top;\n",
       "    }\n",
       "\n",
       "    .dataframe thead th {\n",
       "        text-align: right;\n",
       "    }\n",
       "</style>\n",
       "<table border=\"1\" class=\"dataframe\">\n",
       "  <thead>\n",
       "    <tr style=\"text-align: right;\">\n",
       "      <th></th>\n",
       "      <th>OSEBuildingID</th>\n",
       "      <th>DataYear</th>\n",
       "      <th>BuildingType</th>\n",
       "      <th>PrimaryPropertyType</th>\n",
       "      <th>Latitude</th>\n",
       "      <th>Longitude</th>\n",
       "      <th>Address</th>\n",
       "      <th>Neighborhood</th>\n",
       "      <th>YearBuilt</th>\n",
       "      <th>ENERGYSTARScore</th>\n",
       "      <th>...</th>\n",
       "      <th>SourceEUI(kBtu/sf)</th>\n",
       "      <th>SiteEnergyUse(kBtu)</th>\n",
       "      <th>NumberofBuildings</th>\n",
       "      <th>NumberofFloors</th>\n",
       "      <th>PropertyGFATotal</th>\n",
       "      <th>PropertyGFABuilding(s)</th>\n",
       "      <th>GHGEmissionsIntensity</th>\n",
       "      <th>TotalGHGEmissions</th>\n",
       "      <th>Electricity(kBtu)</th>\n",
       "      <th>NaturalGas(kBtu)</th>\n",
       "    </tr>\n",
       "  </thead>\n",
       "  <tbody>\n",
       "    <tr>\n",
       "      <th>0</th>\n",
       "      <td>1</td>\n",
       "      <td>2015</td>\n",
       "      <td>NonResidential</td>\n",
       "      <td>Hotel</td>\n",
       "      <td>47.612190</td>\n",
       "      <td>-122.337997</td>\n",
       "      <td>405 OLIVE WAY</td>\n",
       "      <td>DOWNTOWN</td>\n",
       "      <td>1927</td>\n",
       "      <td>65.0</td>\n",
       "      <td>...</td>\n",
       "      <td>173.5</td>\n",
       "      <td>6981428.0</td>\n",
       "      <td>1</td>\n",
       "      <td>12.0</td>\n",
       "      <td>88434</td>\n",
       "      <td>88434</td>\n",
       "      <td>2.64</td>\n",
       "      <td>249.43</td>\n",
       "      <td>3686160.0</td>\n",
       "      <td>1272388.0</td>\n",
       "    </tr>\n",
       "    <tr>\n",
       "      <th>1</th>\n",
       "      <td>2</td>\n",
       "      <td>2015</td>\n",
       "      <td>NonResidential</td>\n",
       "      <td>Hotel</td>\n",
       "      <td>47.613106</td>\n",
       "      <td>-122.333358</td>\n",
       "      <td>724 PINE ST</td>\n",
       "      <td>DOWNTOWN</td>\n",
       "      <td>1996</td>\n",
       "      <td>51.0</td>\n",
       "      <td>...</td>\n",
       "      <td>191.3</td>\n",
       "      <td>8354235.0</td>\n",
       "      <td>1</td>\n",
       "      <td>11.0</td>\n",
       "      <td>103566</td>\n",
       "      <td>88502</td>\n",
       "      <td>2.38</td>\n",
       "      <td>263.51</td>\n",
       "      <td>3905411.0</td>\n",
       "      <td>4448985.0</td>\n",
       "    </tr>\n",
       "    <tr>\n",
       "      <th>2</th>\n",
       "      <td>3</td>\n",
       "      <td>2015</td>\n",
       "      <td>NonResidential</td>\n",
       "      <td>Hotel</td>\n",
       "      <td>47.613349</td>\n",
       "      <td>-122.337699</td>\n",
       "      <td>1900 5TH AVE</td>\n",
       "      <td>DOWNTOWN</td>\n",
       "      <td>1969</td>\n",
       "      <td>18.0</td>\n",
       "      <td>...</td>\n",
       "      <td>242.7</td>\n",
       "      <td>73130656.0</td>\n",
       "      <td>1</td>\n",
       "      <td>41.0</td>\n",
       "      <td>961990</td>\n",
       "      <td>961990</td>\n",
       "      <td>1.92</td>\n",
       "      <td>2061.48</td>\n",
       "      <td>49762435.0</td>\n",
       "      <td>3709900.0</td>\n",
       "    </tr>\n",
       "    <tr>\n",
       "      <th>3</th>\n",
       "      <td>5</td>\n",
       "      <td>2015</td>\n",
       "      <td>NonResidential</td>\n",
       "      <td>Hotel</td>\n",
       "      <td>47.614216</td>\n",
       "      <td>-122.336609</td>\n",
       "      <td>620 STEWART ST</td>\n",
       "      <td>DOWNTOWN</td>\n",
       "      <td>1926</td>\n",
       "      <td>1.0</td>\n",
       "      <td>...</td>\n",
       "      <td>636.3</td>\n",
       "      <td>28229320.0</td>\n",
       "      <td>1</td>\n",
       "      <td>10.0</td>\n",
       "      <td>61320</td>\n",
       "      <td>61320</td>\n",
       "      <td>31.38</td>\n",
       "      <td>1936.34</td>\n",
       "      <td>2769023.0</td>\n",
       "      <td>2001894.0</td>\n",
       "    </tr>\n",
       "    <tr>\n",
       "      <th>4</th>\n",
       "      <td>8</td>\n",
       "      <td>2015</td>\n",
       "      <td>NonResidential</td>\n",
       "      <td>Hotel</td>\n",
       "      <td>47.613754</td>\n",
       "      <td>-122.340924</td>\n",
       "      <td>401 LENORA ST</td>\n",
       "      <td>DOWNTOWN</td>\n",
       "      <td>1980</td>\n",
       "      <td>67.0</td>\n",
       "      <td>...</td>\n",
       "      <td>228.8</td>\n",
       "      <td>14829099.0</td>\n",
       "      <td>1</td>\n",
       "      <td>18.0</td>\n",
       "      <td>119890</td>\n",
       "      <td>107430</td>\n",
       "      <td>4.02</td>\n",
       "      <td>507.70</td>\n",
       "      <td>6066245.0</td>\n",
       "      <td>8763105.0</td>\n",
       "    </tr>\n",
       "  </tbody>\n",
       "</table>\n",
       "<p>5 rows × 21 columns</p>\n",
       "</div>"
      ],
      "text/plain": [
       "   OSEBuildingID  DataYear    BuildingType PrimaryPropertyType   Latitude  \\\n",
       "0              1      2015  NonResidential               Hotel  47.612190   \n",
       "1              2      2015  NonResidential               Hotel  47.613106   \n",
       "2              3      2015  NonResidential               Hotel  47.613349   \n",
       "3              5      2015  NonResidential               Hotel  47.614216   \n",
       "4              8      2015  NonResidential               Hotel  47.613754   \n",
       "\n",
       "    Longitude         Address Neighborhood  YearBuilt  ENERGYSTARScore  ...  \\\n",
       "0 -122.337997   405 OLIVE WAY     DOWNTOWN       1927             65.0  ...   \n",
       "1 -122.333358     724 PINE ST     DOWNTOWN       1996             51.0  ...   \n",
       "2 -122.337699    1900 5TH AVE     DOWNTOWN       1969             18.0  ...   \n",
       "3 -122.336609  620 STEWART ST     DOWNTOWN       1926              1.0  ...   \n",
       "4 -122.340924   401 LENORA ST     DOWNTOWN       1980             67.0  ...   \n",
       "\n",
       "   SourceEUI(kBtu/sf)  SiteEnergyUse(kBtu)  NumberofBuildings  NumberofFloors  \\\n",
       "0               173.5            6981428.0                  1            12.0   \n",
       "1               191.3            8354235.0                  1            11.0   \n",
       "2               242.7           73130656.0                  1            41.0   \n",
       "3               636.3           28229320.0                  1            10.0   \n",
       "4               228.8           14829099.0                  1            18.0   \n",
       "\n",
       "   PropertyGFATotal  PropertyGFABuilding(s)  GHGEmissionsIntensity  \\\n",
       "0             88434                   88434                   2.64   \n",
       "1            103566                   88502                   2.38   \n",
       "2            961990                  961990                   1.92   \n",
       "3             61320                   61320                  31.38   \n",
       "4            119890                  107430                   4.02   \n",
       "\n",
       "   TotalGHGEmissions  Electricity(kBtu)  NaturalGas(kBtu)  \n",
       "0             249.43          3686160.0         1272388.0  \n",
       "1             263.51          3905411.0         4448985.0  \n",
       "2            2061.48         49762435.0         3709900.0  \n",
       "3            1936.34          2769023.0         2001894.0  \n",
       "4             507.70          6066245.0         8763105.0  \n",
       "\n",
       "[5 rows x 21 columns]"
      ]
     },
     "execution_count": 31,
     "metadata": {},
     "output_type": "execute_result"
    }
   ],
   "source": [
    "data_subset_2015.head()"
   ]
  },
  {
   "cell_type": "code",
   "execution_count": 32,
   "metadata": {},
   "outputs": [],
   "source": [
    "new_data_frame_2016 = new_df_2016.copy()"
   ]
  },
  {
   "cell_type": "code",
   "execution_count": 33,
   "metadata": {},
   "outputs": [],
   "source": [
    "data_subset_2016 = new_data_frame_2016[columns_for_analyses]"
   ]
  },
  {
   "cell_type": "code",
   "execution_count": 34,
   "metadata": {},
   "outputs": [
    {
     "data": {
      "text/html": [
       "<div>\n",
       "<style scoped>\n",
       "    .dataframe tbody tr th:only-of-type {\n",
       "        vertical-align: middle;\n",
       "    }\n",
       "\n",
       "    .dataframe tbody tr th {\n",
       "        vertical-align: top;\n",
       "    }\n",
       "\n",
       "    .dataframe thead th {\n",
       "        text-align: right;\n",
       "    }\n",
       "</style>\n",
       "<table border=\"1\" class=\"dataframe\">\n",
       "  <thead>\n",
       "    <tr style=\"text-align: right;\">\n",
       "      <th></th>\n",
       "      <th>OSEBuildingID</th>\n",
       "      <th>DataYear</th>\n",
       "      <th>BuildingType</th>\n",
       "      <th>PrimaryPropertyType</th>\n",
       "      <th>Latitude</th>\n",
       "      <th>Longitude</th>\n",
       "      <th>Address</th>\n",
       "      <th>Neighborhood</th>\n",
       "      <th>YearBuilt</th>\n",
       "      <th>ENERGYSTARScore</th>\n",
       "      <th>...</th>\n",
       "      <th>SourceEUI(kBtu/sf)</th>\n",
       "      <th>SiteEnergyUse(kBtu)</th>\n",
       "      <th>NumberofBuildings</th>\n",
       "      <th>NumberofFloors</th>\n",
       "      <th>PropertyGFATotal</th>\n",
       "      <th>PropertyGFABuilding(s)</th>\n",
       "      <th>GHGEmissionsIntensity</th>\n",
       "      <th>TotalGHGEmissions</th>\n",
       "      <th>Electricity(kBtu)</th>\n",
       "      <th>NaturalGas(kBtu)</th>\n",
       "    </tr>\n",
       "  </thead>\n",
       "  <tbody>\n",
       "    <tr>\n",
       "      <th>0</th>\n",
       "      <td>1</td>\n",
       "      <td>2016</td>\n",
       "      <td>NonResidential</td>\n",
       "      <td>Hotel</td>\n",
       "      <td>47.61220</td>\n",
       "      <td>-122.33799</td>\n",
       "      <td>405 Olive way</td>\n",
       "      <td>DOWNTOWN</td>\n",
       "      <td>1927</td>\n",
       "      <td>60.0</td>\n",
       "      <td>...</td>\n",
       "      <td>182.500000</td>\n",
       "      <td>7226362.5</td>\n",
       "      <td>1.0</td>\n",
       "      <td>12</td>\n",
       "      <td>88434</td>\n",
       "      <td>88434</td>\n",
       "      <td>2.83</td>\n",
       "      <td>249.98</td>\n",
       "      <td>3946027.0</td>\n",
       "      <td>1276453.0</td>\n",
       "    </tr>\n",
       "    <tr>\n",
       "      <th>1</th>\n",
       "      <td>2</td>\n",
       "      <td>2016</td>\n",
       "      <td>NonResidential</td>\n",
       "      <td>Hotel</td>\n",
       "      <td>47.61317</td>\n",
       "      <td>-122.33393</td>\n",
       "      <td>724 Pine street</td>\n",
       "      <td>DOWNTOWN</td>\n",
       "      <td>1996</td>\n",
       "      <td>61.0</td>\n",
       "      <td>...</td>\n",
       "      <td>176.100006</td>\n",
       "      <td>8387933.0</td>\n",
       "      <td>1.0</td>\n",
       "      <td>11</td>\n",
       "      <td>103566</td>\n",
       "      <td>88502</td>\n",
       "      <td>2.86</td>\n",
       "      <td>295.86</td>\n",
       "      <td>3242851.0</td>\n",
       "      <td>5145082.0</td>\n",
       "    </tr>\n",
       "    <tr>\n",
       "      <th>2</th>\n",
       "      <td>3</td>\n",
       "      <td>2016</td>\n",
       "      <td>NonResidential</td>\n",
       "      <td>Hotel</td>\n",
       "      <td>47.61393</td>\n",
       "      <td>-122.33810</td>\n",
       "      <td>1900 5th Avenue</td>\n",
       "      <td>DOWNTOWN</td>\n",
       "      <td>1969</td>\n",
       "      <td>43.0</td>\n",
       "      <td>...</td>\n",
       "      <td>241.899994</td>\n",
       "      <td>72587024.0</td>\n",
       "      <td>1.0</td>\n",
       "      <td>41</td>\n",
       "      <td>956110</td>\n",
       "      <td>759392</td>\n",
       "      <td>2.19</td>\n",
       "      <td>2089.28</td>\n",
       "      <td>49526664.0</td>\n",
       "      <td>1493800.0</td>\n",
       "    </tr>\n",
       "    <tr>\n",
       "      <th>3</th>\n",
       "      <td>5</td>\n",
       "      <td>2016</td>\n",
       "      <td>NonResidential</td>\n",
       "      <td>Hotel</td>\n",
       "      <td>47.61412</td>\n",
       "      <td>-122.33664</td>\n",
       "      <td>620 STEWART ST</td>\n",
       "      <td>DOWNTOWN</td>\n",
       "      <td>1926</td>\n",
       "      <td>56.0</td>\n",
       "      <td>...</td>\n",
       "      <td>216.199997</td>\n",
       "      <td>6794584.0</td>\n",
       "      <td>1.0</td>\n",
       "      <td>10</td>\n",
       "      <td>61320</td>\n",
       "      <td>61320</td>\n",
       "      <td>4.67</td>\n",
       "      <td>286.43</td>\n",
       "      <td>2768924.0</td>\n",
       "      <td>1811213.0</td>\n",
       "    </tr>\n",
       "    <tr>\n",
       "      <th>4</th>\n",
       "      <td>8</td>\n",
       "      <td>2016</td>\n",
       "      <td>NonResidential</td>\n",
       "      <td>Hotel</td>\n",
       "      <td>47.61375</td>\n",
       "      <td>-122.34047</td>\n",
       "      <td>401 LENORA ST</td>\n",
       "      <td>DOWNTOWN</td>\n",
       "      <td>1980</td>\n",
       "      <td>75.0</td>\n",
       "      <td>...</td>\n",
       "      <td>211.399994</td>\n",
       "      <td>14172606.0</td>\n",
       "      <td>1.0</td>\n",
       "      <td>18</td>\n",
       "      <td>175580</td>\n",
       "      <td>113580</td>\n",
       "      <td>2.88</td>\n",
       "      <td>505.01</td>\n",
       "      <td>5368607.0</td>\n",
       "      <td>8803998.0</td>\n",
       "    </tr>\n",
       "  </tbody>\n",
       "</table>\n",
       "<p>5 rows × 21 columns</p>\n",
       "</div>"
      ],
      "text/plain": [
       "   OSEBuildingID  DataYear    BuildingType PrimaryPropertyType  Latitude  \\\n",
       "0              1      2016  NonResidential               Hotel  47.61220   \n",
       "1              2      2016  NonResidential               Hotel  47.61317   \n",
       "2              3      2016  NonResidential               Hotel  47.61393   \n",
       "3              5      2016  NonResidential               Hotel  47.61412   \n",
       "4              8      2016  NonResidential               Hotel  47.61375   \n",
       "\n",
       "   Longitude          Address Neighborhood  YearBuilt  ENERGYSTARScore  ...  \\\n",
       "0 -122.33799    405 Olive way     DOWNTOWN       1927             60.0  ...   \n",
       "1 -122.33393  724 Pine street     DOWNTOWN       1996             61.0  ...   \n",
       "2 -122.33810  1900 5th Avenue     DOWNTOWN       1969             43.0  ...   \n",
       "3 -122.33664   620 STEWART ST     DOWNTOWN       1926             56.0  ...   \n",
       "4 -122.34047    401 LENORA ST     DOWNTOWN       1980             75.0  ...   \n",
       "\n",
       "   SourceEUI(kBtu/sf)  SiteEnergyUse(kBtu)  NumberofBuildings  NumberofFloors  \\\n",
       "0          182.500000            7226362.5                1.0              12   \n",
       "1          176.100006            8387933.0                1.0              11   \n",
       "2          241.899994           72587024.0                1.0              41   \n",
       "3          216.199997            6794584.0                1.0              10   \n",
       "4          211.399994           14172606.0                1.0              18   \n",
       "\n",
       "   PropertyGFATotal  PropertyGFABuilding(s)  GHGEmissionsIntensity  \\\n",
       "0             88434                   88434                   2.83   \n",
       "1            103566                   88502                   2.86   \n",
       "2            956110                  759392                   2.19   \n",
       "3             61320                   61320                   4.67   \n",
       "4            175580                  113580                   2.88   \n",
       "\n",
       "   TotalGHGEmissions  Electricity(kBtu)  NaturalGas(kBtu)  \n",
       "0             249.98          3946027.0         1276453.0  \n",
       "1             295.86          3242851.0         5145082.0  \n",
       "2            2089.28         49526664.0         1493800.0  \n",
       "3             286.43          2768924.0         1811213.0  \n",
       "4             505.01          5368607.0         8803998.0  \n",
       "\n",
       "[5 rows x 21 columns]"
      ]
     },
     "execution_count": 34,
     "metadata": {},
     "output_type": "execute_result"
    }
   ],
   "source": [
    "data_subset_2016.head()"
   ]
  },
  {
   "cell_type": "markdown",
   "metadata": {},
   "source": [
    "### Revision of duplicated values data frame for 2015"
   ]
  },
  {
   "cell_type": "markdown",
   "metadata": {},
   "source": [
    "We will check at the duplicate values by looking at the variable 'OSEBuildingID'."
   ]
  },
  {
   "cell_type": "code",
   "execution_count": 35,
   "metadata": {},
   "outputs": [
    {
     "name": "stdout",
     "output_type": "stream",
     "text": [
      "The number of duplicate values in the variable 'OSEBuildingID' of 2015 data frame is: 0\n"
     ]
    }
   ],
   "source": [
    "print (\"The number of duplicate values in the variable 'OSEBuildingID' of 2015 data frame is: {}\".format(data_subset_2015.duplicated(subset=['OSEBuildingID']).sum()))"
   ]
  },
  {
   "cell_type": "markdown",
   "metadata": {},
   "source": [
    "### Revision of duplicated values data frame for 2016"
   ]
  },
  {
   "cell_type": "code",
   "execution_count": 36,
   "metadata": {},
   "outputs": [
    {
     "name": "stdout",
     "output_type": "stream",
     "text": [
      "The number of duplicate values in the variable 'OSEBuildingID' of 2016 data frame is: 0\n"
     ]
    }
   ],
   "source": [
    "print (\"The number of duplicate values in the variable 'OSEBuildingID' of 2016 data frame is: {}\".format(data_subset_2016.duplicated(subset=['OSEBuildingID']).sum()))"
   ]
  },
  {
   "cell_type": "markdown",
   "metadata": {},
   "source": [
    "### Creation of new data frame according to relevant variables"
   ]
  },
  {
   "cell_type": "markdown",
   "metadata": {},
   "source": [
    "We will create now a new data frame that contains the union between 2015 and 2016 data, so that we can perform our analysis."
   ]
  },
  {
   "cell_type": "code",
   "execution_count": 37,
   "metadata": {},
   "outputs": [],
   "source": [
    "new_df_both_years = pd.concat([data_subset_2015[data_subset_2016.columns],data_subset_2016], axis = 0, ignore_index=True).sort_values([\"DataYear\", \"OSEBuildingID\"])"
   ]
  },
  {
   "cell_type": "code",
   "execution_count": 38,
   "metadata": {},
   "outputs": [
    {
     "data": {
      "text/html": [
       "<div>\n",
       "<style scoped>\n",
       "    .dataframe tbody tr th:only-of-type {\n",
       "        vertical-align: middle;\n",
       "    }\n",
       "\n",
       "    .dataframe tbody tr th {\n",
       "        vertical-align: top;\n",
       "    }\n",
       "\n",
       "    .dataframe thead th {\n",
       "        text-align: right;\n",
       "    }\n",
       "</style>\n",
       "<table border=\"1\" class=\"dataframe\">\n",
       "  <thead>\n",
       "    <tr style=\"text-align: right;\">\n",
       "      <th></th>\n",
       "      <th>OSEBuildingID</th>\n",
       "      <th>DataYear</th>\n",
       "      <th>BuildingType</th>\n",
       "      <th>PrimaryPropertyType</th>\n",
       "      <th>Latitude</th>\n",
       "      <th>Longitude</th>\n",
       "      <th>Address</th>\n",
       "      <th>Neighborhood</th>\n",
       "      <th>YearBuilt</th>\n",
       "      <th>ENERGYSTARScore</th>\n",
       "      <th>...</th>\n",
       "      <th>SourceEUI(kBtu/sf)</th>\n",
       "      <th>SiteEnergyUse(kBtu)</th>\n",
       "      <th>NumberofBuildings</th>\n",
       "      <th>NumberofFloors</th>\n",
       "      <th>PropertyGFATotal</th>\n",
       "      <th>PropertyGFABuilding(s)</th>\n",
       "      <th>GHGEmissionsIntensity</th>\n",
       "      <th>TotalGHGEmissions</th>\n",
       "      <th>Electricity(kBtu)</th>\n",
       "      <th>NaturalGas(kBtu)</th>\n",
       "    </tr>\n",
       "  </thead>\n",
       "  <tbody>\n",
       "    <tr>\n",
       "      <th>0</th>\n",
       "      <td>1</td>\n",
       "      <td>2015</td>\n",
       "      <td>NonResidential</td>\n",
       "      <td>Hotel</td>\n",
       "      <td>47.612190</td>\n",
       "      <td>-122.337997</td>\n",
       "      <td>405 OLIVE WAY</td>\n",
       "      <td>DOWNTOWN</td>\n",
       "      <td>1927</td>\n",
       "      <td>65.0</td>\n",
       "      <td>...</td>\n",
       "      <td>173.5</td>\n",
       "      <td>6981428.0</td>\n",
       "      <td>1.0</td>\n",
       "      <td>12.0</td>\n",
       "      <td>88434</td>\n",
       "      <td>88434</td>\n",
       "      <td>2.64</td>\n",
       "      <td>249.43</td>\n",
       "      <td>3686160.0</td>\n",
       "      <td>1272388.0</td>\n",
       "    </tr>\n",
       "    <tr>\n",
       "      <th>1</th>\n",
       "      <td>2</td>\n",
       "      <td>2015</td>\n",
       "      <td>NonResidential</td>\n",
       "      <td>Hotel</td>\n",
       "      <td>47.613106</td>\n",
       "      <td>-122.333358</td>\n",
       "      <td>724 PINE ST</td>\n",
       "      <td>DOWNTOWN</td>\n",
       "      <td>1996</td>\n",
       "      <td>51.0</td>\n",
       "      <td>...</td>\n",
       "      <td>191.3</td>\n",
       "      <td>8354235.0</td>\n",
       "      <td>1.0</td>\n",
       "      <td>11.0</td>\n",
       "      <td>103566</td>\n",
       "      <td>88502</td>\n",
       "      <td>2.38</td>\n",
       "      <td>263.51</td>\n",
       "      <td>3905411.0</td>\n",
       "      <td>4448985.0</td>\n",
       "    </tr>\n",
       "    <tr>\n",
       "      <th>2</th>\n",
       "      <td>3</td>\n",
       "      <td>2015</td>\n",
       "      <td>NonResidential</td>\n",
       "      <td>Hotel</td>\n",
       "      <td>47.613349</td>\n",
       "      <td>-122.337699</td>\n",
       "      <td>1900 5TH AVE</td>\n",
       "      <td>DOWNTOWN</td>\n",
       "      <td>1969</td>\n",
       "      <td>18.0</td>\n",
       "      <td>...</td>\n",
       "      <td>242.7</td>\n",
       "      <td>73130656.0</td>\n",
       "      <td>1.0</td>\n",
       "      <td>41.0</td>\n",
       "      <td>961990</td>\n",
       "      <td>961990</td>\n",
       "      <td>1.92</td>\n",
       "      <td>2061.48</td>\n",
       "      <td>49762435.0</td>\n",
       "      <td>3709900.0</td>\n",
       "    </tr>\n",
       "    <tr>\n",
       "      <th>3</th>\n",
       "      <td>5</td>\n",
       "      <td>2015</td>\n",
       "      <td>NonResidential</td>\n",
       "      <td>Hotel</td>\n",
       "      <td>47.614216</td>\n",
       "      <td>-122.336609</td>\n",
       "      <td>620 STEWART ST</td>\n",
       "      <td>DOWNTOWN</td>\n",
       "      <td>1926</td>\n",
       "      <td>1.0</td>\n",
       "      <td>...</td>\n",
       "      <td>636.3</td>\n",
       "      <td>28229320.0</td>\n",
       "      <td>1.0</td>\n",
       "      <td>10.0</td>\n",
       "      <td>61320</td>\n",
       "      <td>61320</td>\n",
       "      <td>31.38</td>\n",
       "      <td>1936.34</td>\n",
       "      <td>2769023.0</td>\n",
       "      <td>2001894.0</td>\n",
       "    </tr>\n",
       "    <tr>\n",
       "      <th>4</th>\n",
       "      <td>8</td>\n",
       "      <td>2015</td>\n",
       "      <td>NonResidential</td>\n",
       "      <td>Hotel</td>\n",
       "      <td>47.613754</td>\n",
       "      <td>-122.340924</td>\n",
       "      <td>401 LENORA ST</td>\n",
       "      <td>DOWNTOWN</td>\n",
       "      <td>1980</td>\n",
       "      <td>67.0</td>\n",
       "      <td>...</td>\n",
       "      <td>228.8</td>\n",
       "      <td>14829099.0</td>\n",
       "      <td>1.0</td>\n",
       "      <td>18.0</td>\n",
       "      <td>119890</td>\n",
       "      <td>107430</td>\n",
       "      <td>4.02</td>\n",
       "      <td>507.70</td>\n",
       "      <td>6066245.0</td>\n",
       "      <td>8763105.0</td>\n",
       "    </tr>\n",
       "  </tbody>\n",
       "</table>\n",
       "<p>5 rows × 21 columns</p>\n",
       "</div>"
      ],
      "text/plain": [
       "   OSEBuildingID  DataYear    BuildingType PrimaryPropertyType   Latitude  \\\n",
       "0              1      2015  NonResidential               Hotel  47.612190   \n",
       "1              2      2015  NonResidential               Hotel  47.613106   \n",
       "2              3      2015  NonResidential               Hotel  47.613349   \n",
       "3              5      2015  NonResidential               Hotel  47.614216   \n",
       "4              8      2015  NonResidential               Hotel  47.613754   \n",
       "\n",
       "    Longitude         Address Neighborhood  YearBuilt  ENERGYSTARScore  ...  \\\n",
       "0 -122.337997   405 OLIVE WAY     DOWNTOWN       1927             65.0  ...   \n",
       "1 -122.333358     724 PINE ST     DOWNTOWN       1996             51.0  ...   \n",
       "2 -122.337699    1900 5TH AVE     DOWNTOWN       1969             18.0  ...   \n",
       "3 -122.336609  620 STEWART ST     DOWNTOWN       1926              1.0  ...   \n",
       "4 -122.340924   401 LENORA ST     DOWNTOWN       1980             67.0  ...   \n",
       "\n",
       "   SourceEUI(kBtu/sf)  SiteEnergyUse(kBtu)  NumberofBuildings  NumberofFloors  \\\n",
       "0               173.5            6981428.0                1.0            12.0   \n",
       "1               191.3            8354235.0                1.0            11.0   \n",
       "2               242.7           73130656.0                1.0            41.0   \n",
       "3               636.3           28229320.0                1.0            10.0   \n",
       "4               228.8           14829099.0                1.0            18.0   \n",
       "\n",
       "   PropertyGFATotal  PropertyGFABuilding(s)  GHGEmissionsIntensity  \\\n",
       "0             88434                   88434                   2.64   \n",
       "1            103566                   88502                   2.38   \n",
       "2            961990                  961990                   1.92   \n",
       "3             61320                   61320                  31.38   \n",
       "4            119890                  107430                   4.02   \n",
       "\n",
       "   TotalGHGEmissions  Electricity(kBtu)  NaturalGas(kBtu)  \n",
       "0             249.43          3686160.0         1272388.0  \n",
       "1             263.51          3905411.0         4448985.0  \n",
       "2            2061.48         49762435.0         3709900.0  \n",
       "3            1936.34          2769023.0         2001894.0  \n",
       "4             507.70          6066245.0         8763105.0  \n",
       "\n",
       "[5 rows x 21 columns]"
      ]
     },
     "execution_count": 38,
     "metadata": {},
     "output_type": "execute_result"
    }
   ],
   "source": [
    "new_df_both_years.head()"
   ]
  },
  {
   "cell_type": "code",
   "execution_count": 39,
   "metadata": {},
   "outputs": [
    {
     "name": "stdout",
     "output_type": "stream",
     "text": [
      "The data frame for both years with the relevant variables contains 6716 rows and 21 columns\n"
     ]
    }
   ],
   "source": [
    "print(\"The data frame for both years with the relevant variables contains {} rows and {} columns\".format(new_df_both_years.shape[0],new_df_both_years.shape[1]))"
   ]
  },
  {
   "cell_type": "markdown",
   "metadata": {},
   "source": [
    "## Exploratory analysis and data cleaning"
   ]
  },
  {
   "cell_type": "markdown",
   "metadata": {},
   "source": [
    "### Revision of missing values"
   ]
  },
  {
   "cell_type": "markdown",
   "metadata": {},
   "source": [
    "We need to know how many columns have more than 40% of missing values."
   ]
  },
  {
   "cell_type": "code",
   "execution_count": 40,
   "metadata": {},
   "outputs": [
    {
     "name": "stdout",
     "output_type": "stream",
     "text": [
      "The number of columns whose missing values are bigger than 40% is: 0\n"
     ]
    }
   ],
   "source": [
    "nan_values = 100 * new_df_both_years.isna().sum() / len(new_df_both_years) \n",
    "print (\"The number of columns whose missing values are bigger than 40% is: {}\".format(len(nan_values[nan_values > 40])))"
   ]
  },
  {
   "cell_type": "markdown",
   "metadata": {},
   "source": [
    "The next function creates a graph that shows the NaN values in each column of the dataframe passed to the function."
   ]
  },
  {
   "cell_type": "code",
   "execution_count": 41,
   "metadata": {},
   "outputs": [
    {
     "data": {
      "image/png": "[encoded data removed]",
      "text/plain": [
       "<Figure size 432x720 with 1 Axes>"
      ]
     },
     "metadata": {},
     "output_type": "display_data"
    }
   ],
   "source": [
    "def graph_nan_values_per_column(data, size):\n",
    "\n",
    "    nan_values = 100 * data.isna().sum() / len(data) \n",
    "    nan_values = nan_values.sort_values(ascending=False)\n",
    "    nan_values = nan_values.astype(int)\n",
    "    ax_nan_values = nan_values.plot(kind='barh', figsize=size, color='red')\n",
    "    ax_nan_values.set_xlabel(\"Percentage of NaN values\", fontsize='x-large')\n",
    "    ax_nan_values.set_title(\"Percentage of NaN values \\n in the data\",fontsize='x-large')\n",
    "graph_nan_values_per_column(new_df_both_years, (6,10))"
   ]
  },
  {
   "cell_type": "code",
   "execution_count": 42,
   "metadata": {},
   "outputs": [
    {
     "name": "stdout",
     "output_type": "stream",
     "text": [
      "<class 'pandas.core.frame.DataFrame'>\n",
      "Int64Index: 6716 entries, 0 to 6715\n",
      "Data columns (total 21 columns):\n",
      " #   Column                  Non-Null Count  Dtype  \n",
      "---  ------                  --------------  -----  \n",
      " 0   OSEBuildingID           6716 non-null   int64  \n",
      " 1   DataYear                6716 non-null   int64  \n",
      " 2   BuildingType            6716 non-null   object \n",
      " 3   PrimaryPropertyType     6716 non-null   object \n",
      " 4   Latitude                6716 non-null   float64\n",
      " 5   Longitude               6716 non-null   float64\n",
      " 6   Address                 6716 non-null   object \n",
      " 7   Neighborhood            6716 non-null   object \n",
      " 8   YearBuilt               6716 non-null   int64  \n",
      " 9   ENERGYSTARScore         5093 non-null   float64\n",
      " 10  SiteEUI(kBtu/sf)        6699 non-null   float64\n",
      " 11  SourceEUI(kBtu/sf)      6697 non-null   float64\n",
      " 12  SiteEnergyUse(kBtu)     6701 non-null   float64\n",
      " 13  NumberofBuildings       6708 non-null   float64\n",
      " 14  NumberofFloors          6708 non-null   float64\n",
      " 15  PropertyGFATotal        6716 non-null   int64  \n",
      " 16  PropertyGFABuilding(s)  6716 non-null   int64  \n",
      " 17  GHGEmissionsIntensity   6697 non-null   float64\n",
      " 18  TotalGHGEmissions       6697 non-null   float64\n",
      " 19  Electricity(kBtu)       6697 non-null   float64\n",
      " 20  NaturalGas(kBtu)        6697 non-null   float64\n",
      "dtypes: float64(12), int64(5), object(4)\n",
      "memory usage: 1.1+ MB\n"
     ]
    }
   ],
   "source": [
    "new_df_both_years.info()"
   ]
  },
  {
   "cell_type": "markdown",
   "metadata": {},
   "source": [
    "### Exploratory analysis for data cleaning"
   ]
  },
  {
   "cell_type": "markdown",
   "metadata": {},
   "source": [
    "Since we are mainly interested in the emissions of non-residential buildings, we are going to eliminate those values corresponding to residential buildings. For this we use the 'BuildingType' variable."
   ]
  },
  {
   "cell_type": "code",
   "execution_count": 43,
   "metadata": {},
   "outputs": [
    {
     "data": {
      "text/plain": [
       "array(['NonResidential', 'Nonresidential COS', 'Multifamily MR (5-9)',\n",
       "       'SPS-District K-12', 'Multifamily LR (1-4)', 'Campus',\n",
       "       'Multifamily HR (10+)', 'Nonresidential WA'], dtype=object)"
      ]
     },
     "execution_count": 43,
     "metadata": {},
     "output_type": "execute_result"
    }
   ],
   "source": [
    "new_df_both_years['BuildingType'].unique()"
   ]
  },
  {
   "cell_type": "code",
   "execution_count": 44,
   "metadata": {},
   "outputs": [
    {
     "data": {
      "text/plain": [
       "array(['NonResidential', 'Nonresidential COS', 'SPS-District K-12',\n",
       "       'Campus', 'Nonresidential WA'], dtype=object)"
      ]
     },
     "execution_count": 44,
     "metadata": {},
     "output_type": "execute_result"
    }
   ],
   "source": [
    "new_df_both_years = new_df_both_years[~new_df_both_years['BuildingType'].str.contains(\"Multifamily\")]\n",
    "new_df_both_years['BuildingType'].unique()"
   ]
  },
  {
   "cell_type": "markdown",
   "metadata": {},
   "source": [
    "With 'SPS-District K-12' being related to Seattle Public Schools."
   ]
  },
  {
   "cell_type": "code",
   "execution_count": 45,
   "metadata": {},
   "outputs": [
    {
     "data": {
      "text/plain": [
       "<AxesSubplot:xlabel='count', ylabel='BuildingType'>"
      ]
     },
     "execution_count": 45,
     "metadata": {},
     "output_type": "execute_result"
    },
    {
     "data": {
      "image/png": "[encoded data removed]",
      "text/plain": [
       "<Figure size 504x288 with 1 Axes>"
      ]
     },
     "metadata": {},
     "output_type": "display_data"
    }
   ],
   "source": [
    "plt.subplots(figsize=(7, 4))\n",
    "sns.countplot(y=\"BuildingType\", data=new_df_both_years, color=\"c\")"
   ]
  },
  {
   "cell_type": "markdown",
   "metadata": {},
   "source": [
    "We are going to look at the 'PrimaryPropertyType'variable."
   ]
  },
  {
   "cell_type": "code",
   "execution_count": 46,
   "metadata": {},
   "outputs": [
    {
     "data": {
      "text/plain": [
       "array(['Hotel', 'Other', 'Mixed Use Property', 'K-12 School',\n",
       "       'College/University', 'Small- and Mid-Sized Office',\n",
       "       'Self-Storage Facility\\n', 'Distribution Center', 'Large Office',\n",
       "       'Retail Store', 'Senior Care Community', 'Medical Office',\n",
       "       'Hospital', 'Non-Refrigerated Warehouse', 'Distribution Center\\n',\n",
       "       'SPS-District K-12', 'Worship Facility',\n",
       "       'Supermarket/Grocery Store', 'Laboratory', 'Self-Storage Facility',\n",
       "       'Refrigerated Warehouse', 'Restaurant\\n', 'Restaurant',\n",
       "       'University', 'Warehouse', 'Supermarket / Grocery Store', 'Office'],\n",
       "      dtype=object)"
      ]
     },
     "execution_count": 46,
     "metadata": {},
     "output_type": "execute_result"
    }
   ],
   "source": [
    "new_df_both_years = new_df_both_years[~(new_df_both_years['PrimaryPropertyType'].str.contains(\"Residence Hall\"))\n",
    "                                        & ~(new_df_both_years['PrimaryPropertyType'].str.contains(\"Multifamily\"))]\n",
    "new_df_both_years['PrimaryPropertyType'].unique()"
   ]
  },
  {
   "cell_type": "code",
   "execution_count": 47,
   "metadata": {},
   "outputs": [
    {
     "data": {
      "text/plain": [
       "<AxesSubplot:xlabel='count', ylabel='PrimaryPropertyType'>"
      ]
     },
     "execution_count": 47,
     "metadata": {},
     "output_type": "execute_result"
    },
    {
     "data": {
      "image/png": "[encoded data removed]",
      "text/plain": [
       "<Figure size 504x720 with 1 Axes>"
      ]
     },
     "metadata": {},
     "output_type": "display_data"
    }
   ],
   "source": [
    "plt.subplots(figsize=(7, 10))\n",
    "sns.countplot(y=\"PrimaryPropertyType\", data=new_df_both_years, color=\"c\")"
   ]
  },
  {
   "cell_type": "markdown",
   "metadata": {},
   "source": [
    "We will look at the 'Neighborhood' column as well."
   ]
  },
  {
   "cell_type": "code",
   "execution_count": 48,
   "metadata": {},
   "outputs": [
    {
     "data": {
      "text/plain": [
       "array(['DOWNTOWN', 'SOUTHEAST', 'NORTHEAST', 'EAST', 'CENTRAL', 'NORTH',\n",
       "       'MAGNOLIA / QUEEN ANNE', 'LAKE UNION', 'GREATER DUWAMISH',\n",
       "       'BALLARD', 'NORTHWEST', 'SOUTHWEST', 'DELRIDGE', 'Central',\n",
       "       'Ballard', 'North', 'Delridge', 'Northwest',\n",
       "       'DELRIDGE NEIGHBORHOODS'], dtype=object)"
      ]
     },
     "execution_count": 48,
     "metadata": {},
     "output_type": "execute_result"
    }
   ],
   "source": [
    "new_df_both_years['Neighborhood'].unique()"
   ]
  },
  {
   "cell_type": "markdown",
   "metadata": {},
   "source": [
    "As we observed, 'DELRIDGE NEIGHBORHOODS' can be replaced with just 'DELRIDGE' denomination, so we keep unique values."
   ]
  },
  {
   "cell_type": "code",
   "execution_count": 49,
   "metadata": {},
   "outputs": [],
   "source": [
    "new_df_both_years['Neighborhood'].replace('DELRIDGE NEIGHBORHOODS', 'DELRIDGE', inplace=True)\n",
    "new_df_both_years['Neighborhood'] = new_df_both_years['Neighborhood'].map(lambda x: x.upper())"
   ]
  },
  {
   "cell_type": "code",
   "execution_count": 50,
   "metadata": {},
   "outputs": [
    {
     "data": {
      "text/plain": [
       "<AxesSubplot:xlabel='count', ylabel='Neighborhood'>"
      ]
     },
     "execution_count": 50,
     "metadata": {},
     "output_type": "execute_result"
    },
    {
     "data": {
      "image/png": "[encoded data removed]",
      "text/plain": [
       "<Figure size 792x432 with 1 Axes>"
      ]
     },
     "metadata": {},
     "output_type": "display_data"
    }
   ],
   "source": [
    "sns.countplot(y=\"Neighborhood\", data=new_df_both_years, color=\"c\")"
   ]
  },
  {
   "cell_type": "code",
   "execution_count": 51,
   "metadata": {},
   "outputs": [
    {
     "data": {
      "text/html": [
       "<div>\n",
       "<style scoped>\n",
       "    .dataframe tbody tr th:only-of-type {\n",
       "        vertical-align: middle;\n",
       "    }\n",
       "\n",
       "    .dataframe tbody tr th {\n",
       "        vertical-align: top;\n",
       "    }\n",
       "\n",
       "    .dataframe thead th {\n",
       "        text-align: right;\n",
       "    }\n",
       "</style>\n",
       "<table border=\"1\" class=\"dataframe\">\n",
       "  <thead>\n",
       "    <tr style=\"text-align: right;\">\n",
       "      <th></th>\n",
       "      <th>OSEBuildingID</th>\n",
       "      <th>DataYear</th>\n",
       "      <th>Latitude</th>\n",
       "      <th>Longitude</th>\n",
       "      <th>YearBuilt</th>\n",
       "      <th>ENERGYSTARScore</th>\n",
       "      <th>SiteEUI(kBtu/sf)</th>\n",
       "      <th>SourceEUI(kBtu/sf)</th>\n",
       "      <th>SiteEnergyUse(kBtu)</th>\n",
       "      <th>NumberofBuildings</th>\n",
       "      <th>NumberofFloors</th>\n",
       "      <th>PropertyGFATotal</th>\n",
       "      <th>PropertyGFABuilding(s)</th>\n",
       "      <th>GHGEmissionsIntensity</th>\n",
       "      <th>TotalGHGEmissions</th>\n",
       "      <th>Electricity(kBtu)</th>\n",
       "      <th>NaturalGas(kBtu)</th>\n",
       "    </tr>\n",
       "  </thead>\n",
       "  <tbody>\n",
       "    <tr>\n",
       "      <th>count</th>\n",
       "      <td>3277.000000</td>\n",
       "      <td>3277.000000</td>\n",
       "      <td>3277.000000</td>\n",
       "      <td>3277.000000</td>\n",
       "      <td>3277.000000</td>\n",
       "      <td>2178.000000</td>\n",
       "      <td>3267.000000</td>\n",
       "      <td>3268.000000</td>\n",
       "      <td>3.268000e+03</td>\n",
       "      <td>3275.000000</td>\n",
       "      <td>3269.000000</td>\n",
       "      <td>3.277000e+03</td>\n",
       "      <td>3.277000e+03</td>\n",
       "      <td>3268.000000</td>\n",
       "      <td>3268.000000</td>\n",
       "      <td>3.268000e+03</td>\n",
       "      <td>3.268000e+03</td>\n",
       "    </tr>\n",
       "    <tr>\n",
       "      <th>mean</th>\n",
       "      <td>15837.746109</td>\n",
       "      <td>2015.501678</td>\n",
       "      <td>47.615669</td>\n",
       "      <td>-122.333179</td>\n",
       "      <td>1961.625877</td>\n",
       "      <td>64.851699</td>\n",
       "      <td>71.808877</td>\n",
       "      <td>176.094553</td>\n",
       "      <td>8.132269e+06</td>\n",
       "      <td>1.119084</td>\n",
       "      <td>4.130009</td>\n",
       "      <td>1.163565e+05</td>\n",
       "      <td>1.029435e+05</td>\n",
       "      <td>1.479465</td>\n",
       "      <td>178.259636</td>\n",
       "      <td>5.684194e+06</td>\n",
       "      <td>1.888383e+06</td>\n",
       "    </tr>\n",
       "    <tr>\n",
       "      <th>std</th>\n",
       "      <td>13382.344255</td>\n",
       "      <td>0.500073</td>\n",
       "      <td>0.048244</td>\n",
       "      <td>0.024593</td>\n",
       "      <td>32.654121</td>\n",
       "      <td>28.590074</td>\n",
       "      <td>72.727703</td>\n",
       "      <td>181.678648</td>\n",
       "      <td>2.540420e+07</td>\n",
       "      <td>2.233578</td>\n",
       "      <td>6.599019</td>\n",
       "      <td>2.525498e+05</td>\n",
       "      <td>2.354197e+05</td>\n",
       "      <td>2.224835</td>\n",
       "      <td>670.454794</td>\n",
       "      <td>1.751138e+07</td>\n",
       "      <td>7.945861e+06</td>\n",
       "    </tr>\n",
       "    <tr>\n",
       "      <th>min</th>\n",
       "      <td>1.000000</td>\n",
       "      <td>2015.000000</td>\n",
       "      <td>47.499170</td>\n",
       "      <td>-122.411820</td>\n",
       "      <td>1900.000000</td>\n",
       "      <td>1.000000</td>\n",
       "      <td>0.000000</td>\n",
       "      <td>-2.000000</td>\n",
       "      <td>0.000000e+00</td>\n",
       "      <td>0.000000</td>\n",
       "      <td>0.000000</td>\n",
       "      <td>1.128500e+04</td>\n",
       "      <td>-5.055000e+04</td>\n",
       "      <td>-0.020000</td>\n",
       "      <td>-0.800000</td>\n",
       "      <td>-1.154170e+05</td>\n",
       "      <td>0.000000e+00</td>\n",
       "    </tr>\n",
       "    <tr>\n",
       "      <th>25%</th>\n",
       "      <td>576.000000</td>\n",
       "      <td>2015.000000</td>\n",
       "      <td>47.585090</td>\n",
       "      <td>-122.343400</td>\n",
       "      <td>1930.000000</td>\n",
       "      <td>47.000000</td>\n",
       "      <td>33.299999</td>\n",
       "      <td>76.200000</td>\n",
       "      <td>1.221320e+06</td>\n",
       "      <td>1.000000</td>\n",
       "      <td>1.000000</td>\n",
       "      <td>2.963600e+04</td>\n",
       "      <td>2.858400e+04</td>\n",
       "      <td>0.270000</td>\n",
       "      <td>19.677500</td>\n",
       "      <td>7.251178e+05</td>\n",
       "      <td>0.000000e+00</td>\n",
       "    </tr>\n",
       "    <tr>\n",
       "      <th>50%</th>\n",
       "      <td>21116.000000</td>\n",
       "      <td>2016.000000</td>\n",
       "      <td>47.612170</td>\n",
       "      <td>-122.333160</td>\n",
       "      <td>1965.000000</td>\n",
       "      <td>72.500000</td>\n",
       "      <td>51.600000</td>\n",
       "      <td>131.550000</td>\n",
       "      <td>2.515115e+06</td>\n",
       "      <td>1.000000</td>\n",
       "      <td>2.000000</td>\n",
       "      <td>4.929900e+04</td>\n",
       "      <td>4.760200e+04</td>\n",
       "      <td>0.770000</td>\n",
       "      <td>49.060000</td>\n",
       "      <td>1.633868e+06</td>\n",
       "      <td>4.787845e+05</td>\n",
       "    </tr>\n",
       "    <tr>\n",
       "      <th>75%</th>\n",
       "      <td>24536.000000</td>\n",
       "      <td>2016.000000</td>\n",
       "      <td>47.648671</td>\n",
       "      <td>-122.322110</td>\n",
       "      <td>1989.000000</td>\n",
       "      <td>89.000000</td>\n",
       "      <td>81.900001</td>\n",
       "      <td>205.824998</td>\n",
       "      <td>6.992292e+06</td>\n",
       "      <td>1.000000</td>\n",
       "      <td>4.000000</td>\n",
       "      <td>1.047860e+05</td>\n",
       "      <td>9.447200e+04</td>\n",
       "      <td>1.732500</td>\n",
       "      <td>139.265000</td>\n",
       "      <td>4.904434e+06</td>\n",
       "      <td>1.476731e+06</td>\n",
       "    </tr>\n",
       "    <tr>\n",
       "      <th>max</th>\n",
       "      <td>50226.000000</td>\n",
       "      <td>2016.000000</td>\n",
       "      <td>47.733870</td>\n",
       "      <td>-122.258640</td>\n",
       "      <td>2015.000000</td>\n",
       "      <td>100.000000</td>\n",
       "      <td>834.400024</td>\n",
       "      <td>2620.000000</td>\n",
       "      <td>8.739237e+08</td>\n",
       "      <td>111.000000</td>\n",
       "      <td>99.000000</td>\n",
       "      <td>9.320156e+06</td>\n",
       "      <td>9.320156e+06</td>\n",
       "      <td>34.090000</td>\n",
       "      <td>16870.980000</td>\n",
       "      <td>6.570744e+08</td>\n",
       "      <td>2.979090e+08</td>\n",
       "    </tr>\n",
       "  </tbody>\n",
       "</table>\n",
       "</div>"
      ],
      "text/plain": [
       "       OSEBuildingID     DataYear     Latitude    Longitude    YearBuilt  \\\n",
       "count    3277.000000  3277.000000  3277.000000  3277.000000  3277.000000   \n",
       "mean    15837.746109  2015.501678    47.615669  -122.333179  1961.625877   \n",
       "std     13382.344255     0.500073     0.048244     0.024593    32.654121   \n",
       "min         1.000000  2015.000000    47.499170  -122.411820  1900.000000   \n",
       "25%       576.000000  2015.000000    47.585090  -122.343400  1930.000000   \n",
       "50%     21116.000000  2016.000000    47.612170  -122.333160  1965.000000   \n",
       "75%     24536.000000  2016.000000    47.648671  -122.322110  1989.000000   \n",
       "max     50226.000000  2016.000000    47.733870  -122.258640  2015.000000   \n",
       "\n",
       "       ENERGYSTARScore  SiteEUI(kBtu/sf)  SourceEUI(kBtu/sf)  \\\n",
       "count      2178.000000       3267.000000         3268.000000   \n",
       "mean         64.851699         71.808877          176.094553   \n",
       "std          28.590074         72.727703          181.678648   \n",
       "min           1.000000          0.000000           -2.000000   \n",
       "25%          47.000000         33.299999           76.200000   \n",
       "50%          72.500000         51.600000          131.550000   \n",
       "75%          89.000000         81.900001          205.824998   \n",
       "max         100.000000        834.400024         2620.000000   \n",
       "\n",
       "       SiteEnergyUse(kBtu)  NumberofBuildings  NumberofFloors  \\\n",
       "count         3.268000e+03        3275.000000     3269.000000   \n",
       "mean          8.132269e+06           1.119084        4.130009   \n",
       "std           2.540420e+07           2.233578        6.599019   \n",
       "min           0.000000e+00           0.000000        0.000000   \n",
       "25%           1.221320e+06           1.000000        1.000000   \n",
       "50%           2.515115e+06           1.000000        2.000000   \n",
       "75%           6.992292e+06           1.000000        4.000000   \n",
       "max           8.739237e+08         111.000000       99.000000   \n",
       "\n",
       "       PropertyGFATotal  PropertyGFABuilding(s)  GHGEmissionsIntensity  \\\n",
       "count      3.277000e+03            3.277000e+03            3268.000000   \n",
       "mean       1.163565e+05            1.029435e+05               1.479465   \n",
       "std        2.525498e+05            2.354197e+05               2.224835   \n",
       "min        1.128500e+04           -5.055000e+04              -0.020000   \n",
       "25%        2.963600e+04            2.858400e+04               0.270000   \n",
       "50%        4.929900e+04            4.760200e+04               0.770000   \n",
       "75%        1.047860e+05            9.447200e+04               1.732500   \n",
       "max        9.320156e+06            9.320156e+06              34.090000   \n",
       "\n",
       "       TotalGHGEmissions  Electricity(kBtu)  NaturalGas(kBtu)  \n",
       "count        3268.000000       3.268000e+03      3.268000e+03  \n",
       "mean          178.259636       5.684194e+06      1.888383e+06  \n",
       "std           670.454794       1.751138e+07      7.945861e+06  \n",
       "min            -0.800000      -1.154170e+05      0.000000e+00  \n",
       "25%            19.677500       7.251178e+05      0.000000e+00  \n",
       "50%            49.060000       1.633868e+06      4.787845e+05  \n",
       "75%           139.265000       4.904434e+06      1.476731e+06  \n",
       "max         16870.980000       6.570744e+08      2.979090e+08  "
      ]
     },
     "execution_count": 51,
     "metadata": {},
     "output_type": "execute_result"
    }
   ],
   "source": [
    "new_df_both_years.describe()"
   ]
  },
  {
   "cell_type": "markdown",
   "metadata": {},
   "source": [
    "As we observed in the previous table, different columns have negative values. Those are 'SourceEUI(kBtu/sf)', 'PropertyGFABuilding(s)', 'GHGEmissionsIntensity' and 'TotalGHGEmissions'. We will eliminate the negative vaules."
   ]
  },
  {
   "cell_type": "code",
   "execution_count": 52,
   "metadata": {},
   "outputs": [],
   "source": [
    "new_df_both_years = new_df_both_years[(new_df_both_years['SourceEUI(kBtu/sf)']  >= 0) \n",
    "                                                & (new_df_both_years['PropertyGFABuilding(s)']  >= 0)\n",
    "                                                & (new_df_both_years['GHGEmissionsIntensity']  >= 0)\n",
    "                                                & (new_df_both_years['TotalGHGEmissions']  >= 0)\n",
    "                                                & (new_df_both_years['Electricity(kBtu)']  >= 0)\n",
    "                                                & (new_df_both_years['NaturalGas(kBtu)']  >= 0)]"
   ]
  },
  {
   "cell_type": "code",
   "execution_count": 53,
   "metadata": {},
   "outputs": [
    {
     "data": {
      "text/html": [
       "<div>\n",
       "<style scoped>\n",
       "    .dataframe tbody tr th:only-of-type {\n",
       "        vertical-align: middle;\n",
       "    }\n",
       "\n",
       "    .dataframe tbody tr th {\n",
       "        vertical-align: top;\n",
       "    }\n",
       "\n",
       "    .dataframe thead th {\n",
       "        text-align: right;\n",
       "    }\n",
       "</style>\n",
       "<table border=\"1\" class=\"dataframe\">\n",
       "  <thead>\n",
       "    <tr style=\"text-align: right;\">\n",
       "      <th></th>\n",
       "      <th>OSEBuildingID</th>\n",
       "      <th>DataYear</th>\n",
       "      <th>Latitude</th>\n",
       "      <th>Longitude</th>\n",
       "      <th>YearBuilt</th>\n",
       "      <th>ENERGYSTARScore</th>\n",
       "      <th>SiteEUI(kBtu/sf)</th>\n",
       "      <th>SourceEUI(kBtu/sf)</th>\n",
       "      <th>SiteEnergyUse(kBtu)</th>\n",
       "      <th>NumberofBuildings</th>\n",
       "      <th>NumberofFloors</th>\n",
       "      <th>PropertyGFATotal</th>\n",
       "      <th>PropertyGFABuilding(s)</th>\n",
       "      <th>GHGEmissionsIntensity</th>\n",
       "      <th>TotalGHGEmissions</th>\n",
       "      <th>Electricity(kBtu)</th>\n",
       "      <th>NaturalGas(kBtu)</th>\n",
       "    </tr>\n",
       "  </thead>\n",
       "  <tbody>\n",
       "    <tr>\n",
       "      <th>count</th>\n",
       "      <td>3264.000000</td>\n",
       "      <td>3264.000000</td>\n",
       "      <td>3264.000000</td>\n",
       "      <td>3264.000000</td>\n",
       "      <td>3264.000000</td>\n",
       "      <td>2175.000000</td>\n",
       "      <td>3263.000000</td>\n",
       "      <td>3264.000000</td>\n",
       "      <td>3.264000e+03</td>\n",
       "      <td>3264.000000</td>\n",
       "      <td>3256.000000</td>\n",
       "      <td>3.264000e+03</td>\n",
       "      <td>3.264000e+03</td>\n",
       "      <td>3264.000000</td>\n",
       "      <td>3264.000000</td>\n",
       "      <td>3.264000e+03</td>\n",
       "      <td>3.264000e+03</td>\n",
       "    </tr>\n",
       "    <tr>\n",
       "      <th>mean</th>\n",
       "      <td>15795.184436</td>\n",
       "      <td>2015.502757</td>\n",
       "      <td>47.615612</td>\n",
       "      <td>-122.333191</td>\n",
       "      <td>1961.614583</td>\n",
       "      <td>64.819310</td>\n",
       "      <td>71.860619</td>\n",
       "      <td>176.214522</td>\n",
       "      <td>8.140474e+06</td>\n",
       "      <td>1.119485</td>\n",
       "      <td>4.135442</td>\n",
       "      <td>1.166324e+05</td>\n",
       "      <td>1.032215e+05</td>\n",
       "      <td>1.481186</td>\n",
       "      <td>178.466786</td>\n",
       "      <td>5.689539e+06</td>\n",
       "      <td>1.890697e+06</td>\n",
       "    </tr>\n",
       "    <tr>\n",
       "      <th>std</th>\n",
       "      <td>13356.316020</td>\n",
       "      <td>0.500069</td>\n",
       "      <td>0.048214</td>\n",
       "      <td>0.024565</td>\n",
       "      <td>32.657469</td>\n",
       "      <td>28.589906</td>\n",
       "      <td>72.752940</td>\n",
       "      <td>181.733647</td>\n",
       "      <td>2.541865e+07</td>\n",
       "      <td>2.237329</td>\n",
       "      <td>6.610639</td>\n",
       "      <td>2.530108e+05</td>\n",
       "      <td>2.358332e+05</td>\n",
       "      <td>2.225653</td>\n",
       "      <td>670.839394</td>\n",
       "      <td>1.752138e+07</td>\n",
       "      <td>7.950454e+06</td>\n",
       "    </tr>\n",
       "    <tr>\n",
       "      <th>min</th>\n",
       "      <td>1.000000</td>\n",
       "      <td>2015.000000</td>\n",
       "      <td>47.499170</td>\n",
       "      <td>-122.411820</td>\n",
       "      <td>1900.000000</td>\n",
       "      <td>1.000000</td>\n",
       "      <td>0.000000</td>\n",
       "      <td>0.000000</td>\n",
       "      <td>0.000000e+00</td>\n",
       "      <td>0.000000</td>\n",
       "      <td>0.000000</td>\n",
       "      <td>1.128500e+04</td>\n",
       "      <td>3.636000e+03</td>\n",
       "      <td>0.000000</td>\n",
       "      <td>0.000000</td>\n",
       "      <td>0.000000e+00</td>\n",
       "      <td>0.000000e+00</td>\n",
       "    </tr>\n",
       "    <tr>\n",
       "      <th>25%</th>\n",
       "      <td>574.750000</td>\n",
       "      <td>2015.000000</td>\n",
       "      <td>47.585050</td>\n",
       "      <td>-122.343428</td>\n",
       "      <td>1930.000000</td>\n",
       "      <td>47.000000</td>\n",
       "      <td>33.299999</td>\n",
       "      <td>76.275000</td>\n",
       "      <td>1.222924e+06</td>\n",
       "      <td>1.000000</td>\n",
       "      <td>1.000000</td>\n",
       "      <td>2.963475e+04</td>\n",
       "      <td>2.858550e+04</td>\n",
       "      <td>0.270000</td>\n",
       "      <td>19.715000</td>\n",
       "      <td>7.255212e+05</td>\n",
       "      <td>0.000000e+00</td>\n",
       "    </tr>\n",
       "    <tr>\n",
       "      <th>50%</th>\n",
       "      <td>21111.500000</td>\n",
       "      <td>2016.000000</td>\n",
       "      <td>47.612115</td>\n",
       "      <td>-122.333160</td>\n",
       "      <td>1965.000000</td>\n",
       "      <td>72.000000</td>\n",
       "      <td>51.600000</td>\n",
       "      <td>131.600003</td>\n",
       "      <td>2.518779e+06</td>\n",
       "      <td>1.000000</td>\n",
       "      <td>2.000000</td>\n",
       "      <td>4.968000e+04</td>\n",
       "      <td>4.767950e+04</td>\n",
       "      <td>0.780000</td>\n",
       "      <td>49.105000</td>\n",
       "      <td>1.634550e+06</td>\n",
       "      <td>4.793245e+05</td>\n",
       "    </tr>\n",
       "    <tr>\n",
       "      <th>75%</th>\n",
       "      <td>24532.000000</td>\n",
       "      <td>2016.000000</td>\n",
       "      <td>47.648653</td>\n",
       "      <td>-122.322146</td>\n",
       "      <td>1989.000000</td>\n",
       "      <td>89.000000</td>\n",
       "      <td>81.950001</td>\n",
       "      <td>206.250000</td>\n",
       "      <td>6.996959e+06</td>\n",
       "      <td>1.000000</td>\n",
       "      <td>4.000000</td>\n",
       "      <td>1.050708e+05</td>\n",
       "      <td>9.455325e+04</td>\n",
       "      <td>1.740000</td>\n",
       "      <td>139.350000</td>\n",
       "      <td>4.920563e+06</td>\n",
       "      <td>1.481258e+06</td>\n",
       "    </tr>\n",
       "    <tr>\n",
       "      <th>max</th>\n",
       "      <td>50226.000000</td>\n",
       "      <td>2016.000000</td>\n",
       "      <td>47.733870</td>\n",
       "      <td>-122.258640</td>\n",
       "      <td>2015.000000</td>\n",
       "      <td>100.000000</td>\n",
       "      <td>834.400024</td>\n",
       "      <td>2620.000000</td>\n",
       "      <td>8.739237e+08</td>\n",
       "      <td>111.000000</td>\n",
       "      <td>99.000000</td>\n",
       "      <td>9.320156e+06</td>\n",
       "      <td>9.320156e+06</td>\n",
       "      <td>34.090000</td>\n",
       "      <td>16870.980000</td>\n",
       "      <td>6.570744e+08</td>\n",
       "      <td>2.979090e+08</td>\n",
       "    </tr>\n",
       "  </tbody>\n",
       "</table>\n",
       "</div>"
      ],
      "text/plain": [
       "       OSEBuildingID     DataYear     Latitude    Longitude    YearBuilt  \\\n",
       "count    3264.000000  3264.000000  3264.000000  3264.000000  3264.000000   \n",
       "mean    15795.184436  2015.502757    47.615612  -122.333191  1961.614583   \n",
       "std     13356.316020     0.500069     0.048214     0.024565    32.657469   \n",
       "min         1.000000  2015.000000    47.499170  -122.411820  1900.000000   \n",
       "25%       574.750000  2015.000000    47.585050  -122.343428  1930.000000   \n",
       "50%     21111.500000  2016.000000    47.612115  -122.333160  1965.000000   \n",
       "75%     24532.000000  2016.000000    47.648653  -122.322146  1989.000000   \n",
       "max     50226.000000  2016.000000    47.733870  -122.258640  2015.000000   \n",
       "\n",
       "       ENERGYSTARScore  SiteEUI(kBtu/sf)  SourceEUI(kBtu/sf)  \\\n",
       "count      2175.000000       3263.000000         3264.000000   \n",
       "mean         64.819310         71.860619          176.214522   \n",
       "std          28.589906         72.752940          181.733647   \n",
       "min           1.000000          0.000000            0.000000   \n",
       "25%          47.000000         33.299999           76.275000   \n",
       "50%          72.000000         51.600000          131.600003   \n",
       "75%          89.000000         81.950001          206.250000   \n",
       "max         100.000000        834.400024         2620.000000   \n",
       "\n",
       "       SiteEnergyUse(kBtu)  NumberofBuildings  NumberofFloors  \\\n",
       "count         3.264000e+03        3264.000000     3256.000000   \n",
       "mean          8.140474e+06           1.119485        4.135442   \n",
       "std           2.541865e+07           2.237329        6.610639   \n",
       "min           0.000000e+00           0.000000        0.000000   \n",
       "25%           1.222924e+06           1.000000        1.000000   \n",
       "50%           2.518779e+06           1.000000        2.000000   \n",
       "75%           6.996959e+06           1.000000        4.000000   \n",
       "max           8.739237e+08         111.000000       99.000000   \n",
       "\n",
       "       PropertyGFATotal  PropertyGFABuilding(s)  GHGEmissionsIntensity  \\\n",
       "count      3.264000e+03            3.264000e+03            3264.000000   \n",
       "mean       1.166324e+05            1.032215e+05               1.481186   \n",
       "std        2.530108e+05            2.358332e+05               2.225653   \n",
       "min        1.128500e+04            3.636000e+03               0.000000   \n",
       "25%        2.963475e+04            2.858550e+04               0.270000   \n",
       "50%        4.968000e+04            4.767950e+04               0.780000   \n",
       "75%        1.050708e+05            9.455325e+04               1.740000   \n",
       "max        9.320156e+06            9.320156e+06              34.090000   \n",
       "\n",
       "       TotalGHGEmissions  Electricity(kBtu)  NaturalGas(kBtu)  \n",
       "count        3264.000000       3.264000e+03      3.264000e+03  \n",
       "mean          178.466786       5.689539e+06      1.890697e+06  \n",
       "std           670.839394       1.752138e+07      7.950454e+06  \n",
       "min             0.000000       0.000000e+00      0.000000e+00  \n",
       "25%            19.715000       7.255212e+05      0.000000e+00  \n",
       "50%            49.105000       1.634550e+06      4.793245e+05  \n",
       "75%           139.350000       4.920563e+06      1.481258e+06  \n",
       "max         16870.980000       6.570744e+08      2.979090e+08  "
      ]
     },
     "execution_count": 53,
     "metadata": {},
     "output_type": "execute_result"
    }
   ],
   "source": [
    "new_df_both_years.describe()"
   ]
  },
  {
   "cell_type": "code",
   "execution_count": 54,
   "metadata": {},
   "outputs": [
    {
     "data": {
      "image/png": "[encoded data removed]",
      "text/plain": [
       "<Figure size 504x576 with 1 Axes>"
      ]
     },
     "metadata": {},
     "output_type": "display_data"
    },
    {
     "data": {
      "image/png": "[encoded data removed]",
      "text/plain": [
       "<Figure size 792x432 with 1 Axes>"
      ]
     },
     "metadata": {},
     "output_type": "display_data"
    },
    {
     "data": {
      "image/png": "[encoded data removed]",
      "text/plain": [
       "<Figure size 792x432 with 1 Axes>"
      ]
     },
     "metadata": {},
     "output_type": "display_data"
    },
    {
     "data": {
      "image/png": "[encoded data removed]",
      "text/plain": [
       "<Figure size 792x432 with 1 Axes>"
      ]
     },
     "metadata": {},
     "output_type": "display_data"
    },
    {
     "data": {
      "image/png": "[encoded data removed]",
      "text/plain": [
       "<Figure size 792x432 with 1 Axes>"
      ]
     },
     "metadata": {},
     "output_type": "display_data"
    },
    {
     "data": {
      "image/png": "[encoded data removed]",
      "text/plain": [
       "<Figure size 792x432 with 1 Axes>"
      ]
     },
     "metadata": {},
     "output_type": "display_data"
    },
    {
     "data": {
      "image/png": "[encoded data removed]",
      "text/plain": [
       "<Figure size 792x432 with 1 Axes>"
      ]
     },
     "metadata": {},
     "output_type": "display_data"
    },
    {
     "data": {
      "image/png": "[encoded data removed]",
      "text/plain": [
       "<Figure size 792x432 with 1 Axes>"
      ]
     },
     "metadata": {},
     "output_type": "display_data"
    },
    {
     "data": {
      "image/png": "[encoded data removed]",
      "text/plain": [
       "<Figure size 792x432 with 1 Axes>"
      ]
     },
     "metadata": {},
     "output_type": "display_data"
    },
    {
     "data": {
      "image/png": "[encoded data removed]",
      "text/plain": [
       "<Figure size 792x432 with 1 Axes>"
      ]
     },
     "metadata": {},
     "output_type": "display_data"
    },
    {
     "data": {
      "image/png": "[encoded data removed]",
      "text/plain": [
       "<Figure size 792x432 with 1 Axes>"
      ]
     },
     "metadata": {},
     "output_type": "display_data"
    },
    {
     "data": {
      "image/png": "[encoded data removed]",
      "text/plain": [
       "<Figure size 792x432 with 1 Axes>"
      ]
     },
     "metadata": {},
     "output_type": "display_data"
    },
    {
     "data": {
      "image/png": "[encoded data removed]",
      "text/plain": [
       "<Figure size 792x432 with 1 Axes>"
      ]
     },
     "metadata": {},
     "output_type": "display_data"
    },
    {
     "data": {
      "image/png": "[encoded data removed]",
      "text/plain": [
       "<Figure size 792x432 with 1 Axes>"
      ]
     },
     "metadata": {},
     "output_type": "display_data"
    }
   ],
   "source": [
    "plt.subplots(figsize=(7, 8))\n",
    "\n",
    "columns_to_drop_in_histogram=['BuildingType', 'PrimaryPropertyType', 'Neighborhood', 'OSEBuildingID', 'Latitude', 'Longitude', 'Address']\n",
    "\n",
    "for i in new_df_both_years.columns:\n",
    "    if i not in columns_to_drop_in_histogram:\n",
    "        sns.histplot(data=new_df_both_years, x=i, color=\"cyan\", hue=\"DataYear\")\n",
    "        plt.show()"
   ]
  },
  {
   "cell_type": "code",
   "execution_count": 55,
   "metadata": {},
   "outputs": [],
   "source": [
    "# # See reference code at https://www.kaggle.com/marcbourgeois/p-lec-01-cleaning\n",
    "# import folium\n",
    "# map_osm = folium.Map()\n",
    "# map_osm = folium.Map(location=[new_df_both_years['Latitude'].mean(), new_df_both_years['Longitude'].mean()], zoom_start=11, width=1000, height=1000, control_scale=True)\n",
    "# for i in range(0,len(new_df_both_years)):\n",
    "#     folium.Circle([new_df_both_years.iloc[i]['Latitude'],new_df_both_years.iloc[i]['Longitude']], \n",
    "#                       popup=new_df_both_years.iloc[i]['Address'], radius =100, color='red').add_to(map_osm)\n",
    "# map_osm"
   ]
  },
  {
   "cell_type": "code",
   "execution_count": 56,
   "metadata": {},
   "outputs": [
    {
     "name": "stdout",
     "output_type": "stream",
     "text": [
      "The data frame with more clean data contains 3264 rows and 21 columns\n"
     ]
    }
   ],
   "source": [
    "print(\"The data frame with more clean data contains {} rows and {} columns\".format(new_df_both_years.shape[0],new_df_both_years.shape[1]))"
   ]
  },
  {
   "cell_type": "markdown",
   "metadata": {},
   "source": [
    "## Pickling the cleaned data frame"
   ]
  },
  {
   "cell_type": "markdown",
   "metadata": {},
   "source": [
    "After cleaning and filtering our data we pickle the already cleaned and filtered data frame. Pickle is used for serializing and de-serializing Python object structures, also called marshalling or flattening. Serialization refers to the process of converting an object in memory to a byte stream that can be stored on disk or sent over a network. Later on, this character stream can then be retrieved and de-serialized back to a Python object. For more details, consult references:"
   ]
  },
  {
   "cell_type": "code",
   "execution_count": 57,
   "metadata": {},
   "outputs": [],
   "source": [
    "# To pickle the data frame\n",
    "\n",
    "new_df_both_years.to_pickle(\"./pickle_data_cleaned.pkl\")"
   ]
  }
 ],
 "metadata": {
  "interpreter": {
   "hash": "380030d1298d5a27518acca789ff38fe82bbf2e68b73263de6a6bf23efb7704c"
  },
  "kernelspec": {
   "display_name": "Python 3.7.11 64-bit ('base': conda)",
   "language": "python",
   "name": "python3"
  },
  "language_info": {
   "codemirror_mode": {
    "name": "ipython",
    "version": 3
   },
   "file_extension": ".py",
   "mimetype": "text/x-python",
   "name": "python",
   "nbconvert_exporter": "python",
   "pygments_lexer": "ipython3",
   "version": "3.7.11"
  },
  "orig_nbformat": 4
 },
 "nbformat": 4,
 "nbformat_minor": 2
}
